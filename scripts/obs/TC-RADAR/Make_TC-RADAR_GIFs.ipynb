{
 "cells": [
  {
   "cell_type": "code",
   "execution_count": 2,
   "id": "21fa0c20-daeb-4ed3-8b6e-cbd46bc6f052",
   "metadata": {
    "tags": []
   },
   "outputs": [],
   "source": [
    "import os\n",
    "import numpy as np"
   ]
  },
  {
   "cell_type": "code",
   "execution_count": 10,
   "id": "bd55ba7f-06e3-4191-9a9a-5d8ee4b729cd",
   "metadata": {
    "tags": []
   },
   "outputs": [
    {
     "data": {
      "text/plain": [
       "0"
      ]
     },
     "execution_count": 10,
     "metadata": {},
     "output_type": "execute_result"
    }
   ],
   "source": [
    "out_file = 'Henri_2021_KOKX.gif'\n",
    "os.chdir('/Users/acheung/data/ground_radar/storms/Henri_2021_KOKX/')\n",
    "os.system('convert -delay 20 -loop 0 *.png ' + '/Users/acheung/data/ground_radar/storms/Henri_2021_KOKX/Henri_2021_KOKX.gif')\n"
   ]
  },
  {
   "cell_type": "code",
   "execution_count": null,
   "id": "1b8eb342-db23-4587-9476-8e190210d3fd",
   "metadata": {},
   "outputs": [],
   "source": []
  }
 ],
 "metadata": {
  "kernelspec": {
   "display_name": "Python 3 (ipykernel)",
   "language": "python",
   "name": "python3"
  },
  "language_info": {
   "codemirror_mode": {
    "name": "ipython",
    "version": 3
   },
   "file_extension": ".py",
   "mimetype": "text/x-python",
   "name": "python",
   "nbconvert_exporter": "python",
   "pygments_lexer": "ipython3",
   "version": "3.11.7"
  }
 },
 "nbformat": 4,
 "nbformat_minor": 5
}
