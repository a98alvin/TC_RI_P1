{
 "cells": [
  {
   "cell_type": "code",
   "execution_count": 4,
   "id": "228f5139-1661-4e08-b076-20654585f814",
   "metadata": {
    "tags": []
   },
   "outputs": [],
   "source": [
    "import pickle\n",
    "\n",
    "# Open the file in read binary mode\n",
    "with open('/Users/acheung/data/intermediates/imerg_list.pkl', 'rb') as file:\n",
    "    # Load the data from the file\n",
    "    data = pickle.load(file)"
   ]
  },
  {
   "cell_type": "code",
   "execution_count": 5,
   "id": "5c472910-8f86-4a5f-804a-3e44b7f48dc4",
   "metadata": {
    "tags": []
   },
   "outputs": [
    {
     "data": {
      "text/plain": [
       "43"
      ]
     },
     "execution_count": 5,
     "metadata": {},
     "output_type": "execute_result"
    }
   ],
   "source": [
    "len(data)"
   ]
  },
  {
   "cell_type": "code",
   "execution_count": null,
   "id": "6a4071e4-8f24-4d8c-95a7-ee9fa7279fd0",
   "metadata": {},
   "outputs": [],
   "source": [
    "# import pickle\n",
    " \n",
    "# with open('/Users/acheung/data/intermediates/mrms_list.pkl', 'wb') as f:\n",
    "#     pickle.dump(interpolated_mrms_list, f)\n",
    "    \n",
    "# with open('/Users/acheung/data/intermediates/lat_lon_list.pkl', 'wb') as f:\n",
    "#     pickle.dump(lat_lon_arr_list, f)\n",
    "    \n",
    "# with open('/Users/acheung/data/intermediates/imerg_list.pkl', 'wb') as f:\n",
    "#     pickle.dump(imerg_precip_list, f)"
   ]
  }
 ],
 "metadata": {
  "kernelspec": {
   "display_name": "Python 3 (ipykernel)",
   "language": "python",
   "name": "python3"
  },
  "language_info": {
   "codemirror_mode": {
    "name": "ipython",
    "version": 3
   },
   "file_extension": ".py",
   "mimetype": "text/x-python",
   "name": "python",
   "nbconvert_exporter": "python",
   "pygments_lexer": "ipython3",
   "version": "3.11.7"
  }
 },
 "nbformat": 4,
 "nbformat_minor": 5
}
