{
 "cells": [
  {
   "cell_type": "code",
   "execution_count": 1,
   "id": "6444a9ac-e062-4bec-9365-ea192bc069af",
   "metadata": {
    "tags": []
   },
   "outputs": [],
   "source": [
    "import os\n",
    "\n"
   ]
  },
  {
   "cell_type": "code",
   "execution_count": null,
   "id": "3af7a11b-a421-4636-bde3-d727fcede208",
   "metadata": {},
   "outputs": [],
   "source": [
    "os.system(https://mtarchive.geol.iastate.edu/2017/06/19/mrms/ncep/GaugeCorr_QPE_01H/)"
   ]
  }
 ],
 "metadata": {
  "kernelspec": {
   "display_name": "Python 3 (ipykernel)",
   "language": "python",
   "name": "python3"
  },
  "language_info": {
   "codemirror_mode": {
    "name": "ipython",
    "version": 3
   },
   "file_extension": ".py",
   "mimetype": "text/x-python",
   "name": "python",
   "nbconvert_exporter": "python",
   "pygments_lexer": "ipython3",
   "version": "3.11.7"
  }
 },
 "nbformat": 4,
 "nbformat_minor": 5
}
