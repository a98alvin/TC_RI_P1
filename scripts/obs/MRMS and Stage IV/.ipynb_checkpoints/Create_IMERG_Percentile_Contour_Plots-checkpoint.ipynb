{
 "cells": [
  {
   "cell_type": "code",
   "execution_count": 1,
   "id": "42dab544-84e5-404f-8cc4-a94617d40de2",
   "metadata": {
    "tags": []
   },
   "outputs": [],
   "source": [
    "import pickle\n",
    "import xarray as xr\n",
    "import numpy as np\n",
    "import matplotlib.pyplot as plt\n",
    "import cartopy.crs as ccrs\n",
    "import cartopy\n",
    "import cartopy.feature as cfeature\n",
    "from datetime import datetime\n",
    "import warnings\n",
    "warnings.filterwarnings(\"ignore\", category=DeprecationWarning) \n"
   ]
  },
  {
   "cell_type": "code",
   "execution_count": 2,
   "id": "07f9efef-93c5-4122-9cf5-6ba4377a5abe",
   "metadata": {
    "tags": []
   },
   "outputs": [],
   "source": [
    "with open('/Users/acheung/data/intermediates/mrms_list_indiv.pkl', 'rb') as file:\n",
    "    # Load the data from the file\n",
    "    interpolated_mrms_list = pickle.load(file)\n",
    "    \n",
    "with open('/Users/acheung/data/intermediates/lat_lon_list_indiv.pkl', 'rb') as file:\n",
    "    # Load the data from the file\n",
    "    lat_lon_arr_list = pickle.load(file)\n",
    "    \n",
    "with open('/Users/acheung/data/intermediates/imerg_list_indiv.pkl', 'rb') as file:\n",
    "    # Load the data from the file\n",
    "    imerg_precip_list = pickle.load(file)\n",
    "    \n",
    "with open('/Users/acheung/data/intermediates/time_strings_list_indiv.pkl', 'rb') as file:\n",
    "    # Load the data from the file\n",
    "    time_strings_list = pickle.load(file)\n",
    "    \n",
    "with open('/Users/acheung/data/intermediates/datetimes_indiv.pkl', 'rb') as file:\n",
    "    # Load the data from the file\n",
    "    individual_times_list = pickle.load(file)"
   ]
  },
  {
   "cell_type": "code",
   "execution_count": 15,
   "id": "965308e0-a379-4670-bc93-bbcac506988b",
   "metadata": {
    "tags": []
   },
   "outputs": [],
   "source": [
    "from multiprocessing import Pool\n",
    "\n",
    "# Stack overflow: https://stackoverflow.com/questions/29857498/how-to-apply-a-function-to-a-2d-numpy-array-with-multiprocessing\n",
    "\n",
    "def percentile_calc(case_now,fraction_ind_0,fraction_ind_1):\n",
    "    if case_now[fraction_ind_0][fraction_ind_1].isnull() == True:\n",
    "        current_point_percentile = np.nan\n",
    "    if case_now[fraction_ind_0][fraction_ind_1].isnull() == False:\n",
    "        current_point_percentile = (case_now < case_now[fraction_ind_0][fraction_ind_1]).sum()/(~case_now.isnull()).sum()\n",
    "    return current_point_percentile\n",
    "    \n",
    "def splat_f(args):\n",
    "    return percentile_calc(*args)\n",
    "\n",
    "def parallel(M, N,case_now):\n",
    "    result = pool.map(splat_f, ((case_now,fraction_ind_0,fraction_ind_1) for fraction_ind_0 in range(M) for fraction_ind_1 in range(N)))\n",
    "\n",
    "    return np.array(result).reshape(M, N)\n",
    "\n",
    "pool = Pool(8)\n"
   ]
  },
  {
   "cell_type": "code",
   "execution_count": 16,
   "id": "d1c82a6b-4869-49ae-9b26-8aab22229abf",
   "metadata": {
    "tags": []
   },
   "outputs": [],
   "source": [
    "colors_list = ['#1f77b4', '#ff7f0e', '#2ca02c', '#d62728']"
   ]
  },
  {
   "cell_type": "code",
   "execution_count": null,
   "id": "04c3849d-30b8-46b0-83b5-0c1fe027a3b1",
   "metadata": {
    "tags": []
   },
   "outputs": [],
   "source": [
    "for storm_plotter in range(len(imerg_precip_list)):\n",
    "    for indiv_images in range(len(imerg_precip_list[storm_plotter])):\n",
    "        case_now_pre  = imerg_precip_list[storm_plotter][indiv_images]\n",
    "        case_now_xr = xr.DataArray(case_now_pre)/25.4\n",
    "        M = case_now_xr.shape[0]\n",
    "        N = case_now_xr.shape[1]\n",
    "        fractions_matrix = parallel(M,N,case_now_xr)\n",
    "        \n",
    "        fig = plt.figure()\n",
    "        ax=plt.axes(projection=ccrs.PlateCarree())\n",
    "        ax.add_feature(cfeature.STATES)\n",
    "        ax.add_feature(cfeature.COASTLINE)\n",
    "        f_plot = ax.contourf(lat_lon_arr_list[storm_plotter][1],lat_lon_arr_list[storm_plotter][0],\n",
    "                             case_now_xr,levels=np.arange(0,np.nanpercentile(case_now_xr,100) +\n",
    "                                                          float('%.2g' % (np.nanpercentile(case_now_xr,100)/10)),\n",
    "                                                          float('%.2g' % (np.nanpercentile(case_now_xr,100)/10))))\n",
    "        plt.colorbar(f_plot,label='1 h Precipitation (in)')\n",
    "        c_plot = ax.contour(lat_lon_arr_list[storm_plotter][1],lat_lon_arr_list[storm_plotter][0],\n",
    "                            fractions_matrix,colors=colors_list,levels=[0.75,0.9,0.95,0.99])\n",
    "        ax.clabel(c_plot,colors=colors_list)\n",
    "        ts = (individual_times_list[storm_plotter][indiv_images]  - np.datetime64('1970-01-01T00:00:00Z')) / np.timedelta64(1, 's')\n",
    "        ax.set_title('IMERG Precipitation\\n' + str(datetime.utcfromtimestamp(ts)))\n",
    "        plt.savefig('/Users/acheung/data/Figures/Individual_Percentile_Plots/IMERG_Plot_'+\n",
    "                    str(datetime.utcfromtimestamp(ts)) + '_Storm_' + str(storm_plotter) + '.png')\n",
    "        plt.close()\n",
    "        print((storm_plotter,len(imerg_precip_list)),(indiv_images,len(imerg_precip_list[storm_plotter])))\n"
   ]
  },
  {
   "cell_type": "code",
   "execution_count": null,
   "id": "64f0c55f-e664-4b45-9470-d23e675c17bd",
   "metadata": {
    "tags": []
   },
   "outputs": [],
   "source": [
    "# fig = plt.figure()\n",
    "# ax=plt.axes(projection=ccrs.PlateCarree())\n",
    "# ax.add_feature(cfeature.STATES)\n",
    "# ax.add_feature(cfeature.COASTLINE)\n",
    "# f_plot = ax.contourf(lat_lon_arr_list[storm_plotter][1],lat_lon_arr_list[storm_plotter][0],\n",
    "#                      case_now_xr,levels=np.arange(0,np.nanpercentile(case_now_xr,100) +\n",
    "#                                                   np.round((np.nanpercentile(case_now_xr,100) + 0.01)/10,2),\n",
    "#                                                   np.round((np.nanpercentile(case_now_xr,100) + 0.01)/10,2)))\n",
    "# plt.colorbar(f_plot)\n",
    "# c_plot = ax.contour(lat_lon_arr_list[storm_plotter][1],lat_lon_arr_list[storm_plotter][0],\n",
    "#                     fractions_matrix,colors='white',levels=[0.75,0.9,0.95,0.99])\n",
    "# ax.clabel(c_plot,colors='white')\n",
    "# ax.set_title('IMERG Precipitation')\n",
    "\n"
   ]
  }
 ],
 "metadata": {
  "kernelspec": {
   "display_name": "Python (fasterenv)",
   "language": "python",
   "name": "fasterenv"
  },
  "language_info": {
   "codemirror_mode": {
    "name": "ipython",
    "version": 3
   },
   "file_extension": ".py",
   "mimetype": "text/x-python",
   "name": "python",
   "nbconvert_exporter": "python",
   "pygments_lexer": "ipython3",
   "version": "3.12.7"
  }
 },
 "nbformat": 4,
 "nbformat_minor": 5
}
