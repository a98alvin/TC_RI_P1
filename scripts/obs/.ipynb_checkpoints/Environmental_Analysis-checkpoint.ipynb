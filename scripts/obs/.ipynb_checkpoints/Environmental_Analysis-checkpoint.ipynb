{
 "cells": [
  {
   "cell_type": "code",
   "execution_count": 1,
   "id": "f952d53f",
   "metadata": {},
   "outputs": [],
   "source": [
    "import matplotlib.pyplot as plt\n",
    "import pandas as pd\n",
    "import numpy as np"
   ]
  },
  {
   "cell_type": "code",
   "execution_count": 38,
   "id": "5cc062f2",
   "metadata": {},
   "outputs": [
    {
     "data": {
      "image/png": "[encoded data removed]",
      "text/plain": [
       "<Figure size 640x480 with 1 Axes>"
      ]
     },
     "metadata": {},
     "output_type": "display_data"
    }
   ],
   "source": [
    "basin = 'north_atlantic'\n",
    "ec_ships_boo = 'n' # set to 'y' if we want to use EC SHIPS\n",
    "\n",
    "if ec_ships_boo == 'y':\n",
    "    big_RI = pd.read_csv('/Users/acheung/data/RI_Cases/RI_Events_with_EC_SHIPS_shear_'+basin+'.csv')\n",
    "elif ec_ships_boo == 'n':\n",
    "    big_RI = pd.read_csv('/Users/acheung/data/RI_Cases/RI_Events_with_SHIPS_Data_'+basin+'.csv')\n",
    "\n",
    "    \n",
    "Start_inds = np.where(big_RI['HSTA'].values == '0 days 00:00:00')[0]\n",
    "\n",
    "shear_RI = big_RI.iloc[Start_inds]['SHRD']\n",
    "\n",
    "big_RI_indexed = big_RI.set_index(['Storm_ID','Time'])\n",
    "\n",
    "counts, edges, bars = plt.hist(shear_RI,bins=[0,10,20,30,40,50])\n",
    "\n",
    "\n",
    "plt.grid()\n",
    "plt.xlabel('Deep-Layer Shear (kt)')\n",
    "plt.ylabel('RI Events')\n",
    "plt.bar_label(bars)\n",
    "\n",
    "dt_df = pd.to_datetime(big_RI['Time'])\n",
    "\n",
    "if ec_ships_boo == 'y':\n",
    "    plt.title(basin + ' ' + str(dt_df.min().year)+'–'+str(dt_df.max().year) + ' (EC_SHIPS)')\n",
    "    plt.savefig('/Users/acheung/TC_RI_P1/figures/histogram_RI_cases_EC_SHIPS_shear_'+basin,dpi=600)\n",
    "elif ec_ships_boo == 'n':\n",
    "    plt.title(basin + ' ' + str(dt_df.min().year)+'–'+str(dt_df.max().year))\n",
    "    plt.savefig('/Users/acheung/TC_RI_P1/figures/histogram_RI_cases_shear_'+basin,dpi=600)"
   ]
  },
  {
   "cell_type": "code",
   "execution_count": 39,
   "id": "1a86015d",
   "metadata": {},
   "outputs": [
    {
     "data": {
      "text/plain": [
       "4        9.4\n",
       "11      10.3\n",
       "17       6.9\n",
       "26      17.9\n",
       "36      12.6\n",
       "        ... \n",
       "1349     3.1\n",
       "1357     8.3\n",
       "1367    10.6\n",
       "1379    17.0\n",
       "1385    32.1\n",
       "Name: SHRD, Length: 143, dtype: float64"
      ]
     },
     "execution_count": 39,
     "metadata": {},
     "output_type": "execute_result"
    }
   ],
   "source": [
    "shear_RI"
   ]
  },
  {
   "cell_type": "code",
   "execution_count": 39,
   "id": "2ca306bc",
   "metadata": {},
   "outputs": [],
   "source": [
    "std_shear_RI = np.std(shear_RI_indexed['Deep-Layer Shear (kt)'])\n",
    "med_shear_RI = np.nanmedian(shear_RI_indexed['Deep-Layer Shear (kt)'])\n",
    "mean_shear_RI = np.mean(shear_RI_indexed['Deep-Layer Shear (kt)'])\n",
    "RI_shear_stats = [int(counts.sum()),mean_shear_RI,med_shear_RI,std_shear_RI]\n",
    "RI_shear_stats_pd = pd.DataFrame(RI_shear_stats).transpose()\n",
    "RI_shear_stats_pd.columns = ['Sample Size','Mean','Median','Standard Deviation']\n",
    "RI_shear_stats_pd.index = [basin]\n",
    "RI_shear_stats_pd.index.name = 'Basin'\n",
    "\n",
    "if ec_ships_boo == 'y':\n",
    "    RI_shear_stats_pd.to_csv('/Users/acheung/data/RI_Cases/stats_RI_EC_SHIPS_shear_'+basin+'.csv')\n",
    "elif ec_ships_boo == 'n':\n",
    "    RI_shear_stats_pd.to_csv('/Users/acheung/data/RI_Cases/stats_RI_shear_'+basin+'.csv')\n"
   ]
  },
  {
   "cell_type": "code",
   "execution_count": 40,
   "id": "016e48a2",
   "metadata": {},
   "outputs": [
    {
     "data": {
      "text/html": [
       "<div>\n",
       "<style scoped>\n",
       "    .dataframe tbody tr th:only-of-type {\n",
       "        vertical-align: middle;\n",
       "    }\n",
       "\n",
       "    .dataframe tbody tr th {\n",
       "        vertical-align: top;\n",
       "    }\n",
       "\n",
       "    .dataframe thead th {\n",
       "        text-align: right;\n",
       "    }\n",
       "</style>\n",
       "<table border=\"1\" class=\"dataframe\">\n",
       "  <thead>\n",
       "    <tr style=\"text-align: right;\">\n",
       "      <th></th>\n",
       "      <th>Sample Size</th>\n",
       "      <th>Mean</th>\n",
       "      <th>Median</th>\n",
       "      <th>Standard Deviation</th>\n",
       "    </tr>\n",
       "    <tr>\n",
       "      <th>Basin</th>\n",
       "      <th></th>\n",
       "      <th></th>\n",
       "      <th></th>\n",
       "      <th></th>\n",
       "    </tr>\n",
       "  </thead>\n",
       "  <tbody>\n",
       "    <tr>\n",
       "      <th>north_atlantic</th>\n",
       "      <td>143.0</td>\n",
       "      <td>12.309091</td>\n",
       "      <td>11.0</td>\n",
       "      <td>6.703646</td>\n",
       "    </tr>\n",
       "  </tbody>\n",
       "</table>\n",
       "</div>"
      ],
      "text/plain": [
       "                Sample Size       Mean  Median  Standard Deviation\n",
       "Basin                                                             \n",
       "north_atlantic        143.0  12.309091    11.0            6.703646"
      ]
     },
     "execution_count": 40,
     "metadata": {},
     "output_type": "execute_result"
    }
   ],
   "source": [
    "RI_shear_stats_pd"
   ]
  },
  {
   "cell_type": "code",
   "execution_count": 41,
   "id": "c7f27d31",
   "metadata": {},
   "outputs": [
    {
     "data": {
      "text/plain": [
       "(114, 7)"
      ]
     },
     "execution_count": 41,
     "metadata": {},
     "output_type": "execute_result"
    }
   ],
   "source": [
    "shear_RI.where(shear_RI['RI_Number'] == 1).dropna().shape"
   ]
  },
  {
   "cell_type": "code",
   "execution_count": 42,
   "id": "2ebbb67c",
   "metadata": {},
   "outputs": [
    {
     "data": {
      "text/plain": [
       "(27, 7)"
      ]
     },
     "execution_count": 42,
     "metadata": {},
     "output_type": "execute_result"
    }
   ],
   "source": [
    "shear_RI.where(shear_RI['RI_Number'] == 2).dropna().shape"
   ]
  },
  {
   "cell_type": "code",
   "execution_count": 43,
   "id": "084a3c51",
   "metadata": {},
   "outputs": [
    {
     "data": {
      "text/plain": [
       "(2, 7)"
      ]
     },
     "execution_count": 43,
     "metadata": {},
     "output_type": "execute_result"
    }
   ],
   "source": [
    "shear_RI.where(shear_RI['RI_Number'] == 3).dropna().shape"
   ]
  },
  {
   "cell_type": "code",
   "execution_count": null,
   "id": "3564ebbd",
   "metadata": {},
   "outputs": [],
   "source": []
  }
 ],
 "metadata": {
  "kernelspec": {
   "display_name": "Python [conda env:besttrack] *",
   "language": "python",
   "name": "conda-env-besttrack-py"
  },
  "language_info": {
   "codemirror_mode": {
    "name": "ipython",
    "version": 3
   },
   "file_extension": ".py",
   "mimetype": "text/x-python",
   "name": "python",
   "nbconvert_exporter": "python",
   "pygments_lexer": "ipython3",
   "version": "3.11.7"
  }
 },
 "nbformat": 4,
 "nbformat_minor": 5
}
