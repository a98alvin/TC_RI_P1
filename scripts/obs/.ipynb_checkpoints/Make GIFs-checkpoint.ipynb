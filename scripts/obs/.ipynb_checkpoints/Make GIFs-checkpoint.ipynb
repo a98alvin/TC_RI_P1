{
 "cells": [
  {
   "cell_type": "code",
   "execution_count": 1,
   "id": "cdfb8e29",
   "metadata": {},
   "outputs": [],
   "source": [
    "import os"
   ]
  },
  {
   "cell_type": "code",
   "execution_count": 16,
   "id": "9b11a22c",
   "metadata": {},
   "outputs": [],
   "source": [
    "years_in_dir = os.listdir('/Users/acheung/data/Figures/IMERG_Centering_Eval/')\n",
    "for i in range(0,len(years_in_dir)-2): # Temporary fix to avoid two non-year files\n",
    "    storms_in_year = os.listdir('/Users/acheung/data/Figures/IMERG_Centering_Eval/'+years_in_dir[i])\n",
    "    for s in range(len(storms_in_year)):\n",
    "        os.chdir('/Users/acheung/data/Figures/IMERG_Centering_Eval/'+years_in_dir[i]+'/'+storms_in_year[s])\n",
    "        out_file = storms_in_year[s]+'_'+years_in_dir[i]+'.gif'\n",
    "        if os.path.exists('/Users/acheung/data/Figures/IMERG_Centering_Eval/GIFs/'+out_file) == True:\n",
    "            continue\n",
    "        os.system('convert -delay 20 -loop 0 *.png ' + '/Users/acheung/data/Figures/IMERG_Centering_Eval/GIFs/'+out_file)\n",
    "        print(years_in_dir[i],storms_in_year[s])"
   ]
  }
 ],
 "metadata": {
  "kernelspec": {
   "display_name": "Python [conda env:besttrack] *",
   "language": "python",
   "name": "conda-env-besttrack-py"
  },
  "language_info": {
   "codemirror_mode": {
    "name": "ipython",
    "version": 3
   },
   "file_extension": ".py",
   "mimetype": "text/x-python",
   "name": "python",
   "nbconvert_exporter": "python",
   "pygments_lexer": "ipython3",
   "version": "3.11.7"
  }
 },
 "nbformat": 4,
 "nbformat_minor": 5
}
