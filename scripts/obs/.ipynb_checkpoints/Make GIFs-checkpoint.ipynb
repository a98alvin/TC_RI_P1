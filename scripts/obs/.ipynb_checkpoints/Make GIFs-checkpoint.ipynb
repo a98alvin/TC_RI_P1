{
 "cells": [
  {
   "cell_type": "code",
   "execution_count": 1,
   "id": "42f60039",
   "metadata": {},
   "outputs": [],
   "source": [
    "import os\n",
    "import numpy as np"
   ]
  },
  {
   "cell_type": "code",
   "execution_count": 2,
   "id": "f89e3bd3",
   "metadata": {},
   "outputs": [
    {
     "ename": "NameError",
     "evalue": "name 'years_in_dir' is not defined",
     "output_type": "error",
     "traceback": [
      "\u001b[0;31m---------------------------------------------------------------------------\u001b[0m",
      "\u001b[0;31mNameError\u001b[0m                                 Traceback (most recent call last)",
      "Cell \u001b[0;32mIn[2], line 11\u001b[0m\n\u001b[1;32m      8\u001b[0m         \u001b[38;5;28;01mreturn\u001b[39;00m \u001b[38;5;28;01mTrue\u001b[39;00m\n\u001b[1;32m     10\u001b[0m err_boo_arr \u001b[38;5;241m=\u001b[39m []\n\u001b[0;32m---> 11\u001b[0m years_in_dir_arr \u001b[38;5;241m=\u001b[39m np\u001b[38;5;241m.\u001b[39masarray(years_in_dir)\n\u001b[1;32m     12\u001b[0m \u001b[38;5;28;01mfor\u001b[39;00m checker \u001b[38;5;129;01min\u001b[39;00m years_in_dir_arr:\n\u001b[1;32m     13\u001b[0m     err_boo \u001b[38;5;241m=\u001b[39m iserror(\u001b[38;5;28mint\u001b[39m, checker)\n",
      "\u001b[0;31mNameError\u001b[0m: name 'years_in_dir' is not defined"
     ]
    }
   ],
   "source": [
    "# This identifies which directories are ints\n",
    "\n",
    "def iserror(func, *args, **kw):\n",
    "    try:\n",
    "        func(*args, **kw)\n",
    "        return False\n",
    "    except Exception:\n",
    "        return True\n",
    "\n",
    "err_boo_arr = []\n",
    "years_in_dir = os.listdir('/Users/acheung/data/Figures/IMERG_Centering_Eval/')\n",
    "\n",
    "years_in_dir_arr = np.asarray(years_in_dir)\n",
    "for checker in years_in_dir_arr:\n",
    "    err_boo = iserror(int, checker)\n",
    "    err_boo_arr.append(err_boo)"
   ]
  },
  {
   "cell_type": "code",
   "execution_count": 38,
   "id": "9fe71192",
   "metadata": {},
   "outputs": [
    {
     "name": "stdout",
     "output_type": "stream",
     "text": [
      "2009 FRED\n",
      "2018 MICHAEL\n",
      "2016 ALEX\n",
      "2012 MICHAEL\n",
      "2004 CHARLEY\n",
      "2004 JEANNE\n",
      "2011 RINA\n",
      "2019 LORENZO\n",
      "2017 FRANKLIN\n",
      "2003 ISABEL\n",
      "2006 PAUL\n",
      "2006 HELENE\n",
      "2014 SIMON\n",
      "2014 BERTHA\n",
      "2020 ZETA\n",
      "2020 HANNA\n",
      "2007 LORENZO\n",
      "2010 TOMAS\n",
      "2001 IRIS\n",
      "2005 DENNIS\n",
      "2005 BETA\n",
      "2005 WILMA\n"
     ]
    }
   ],
   "source": [
    "for i in np.where(np.asarray(err_boo_arr) == False)[0]: # Temporary fix to avoid two non-year files\n",
    "    storms_in_year = os.listdir('/Users/acheung/data/Figures/IMERG_Centering_Eval/'+years_in_dir[i])\n",
    "    for s in range(len(storms_in_year)):\n",
    "        os.chdir('/Users/acheung/data/Figures/IMERG_Centering_Eval/'+years_in_dir[i]+'/'+storms_in_year[s])\n",
    "        out_file = storms_in_year[s]+'_'+years_in_dir[i]+'.gif'\n",
    "        if os.path.exists('/Users/acheung/data/Figures/IMERG_Centering_Eval/GIFs/'+out_file) == True:\n",
    "            continue\n",
    "        os.system('convert -delay 20 -loop 0 *.png ' + '/Users/acheung/data/Figures/IMERG_Centering_Eval/GIFs/'+out_file)\n",
    "        print(years_in_dir[i],storms_in_year[s])"
   ]
  }
 ],
 "metadata": {
  "kernelspec": {
   "display_name": "Python [conda env:besttrack] *",
   "language": "python",
   "name": "conda-env-besttrack-py"
  },
  "language_info": {
   "codemirror_mode": {
    "name": "ipython",
    "version": 3
   },
   "file_extension": ".py",
   "mimetype": "text/x-python",
   "name": "python",
   "nbconvert_exporter": "python",
   "pygments_lexer": "ipython3",
   "version": "3.11.7"
  }
 },
 "nbformat": 4,
 "nbformat_minor": 5
}
