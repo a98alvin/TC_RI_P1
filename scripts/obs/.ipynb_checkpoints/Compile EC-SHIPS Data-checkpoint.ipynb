{
 "cells": [
  {
   "cell_type": "code",
   "execution_count": 1,
   "id": "5daab7eb",
   "metadata": {
    "scrolled": true
   },
   "outputs": [],
   "source": [
    "# Step two is to compile SHIPS data\n",
    "\n",
    "from datetime import datetime\n",
    "import pandas as pd\n",
    "import os"
   ]
  },
  {
   "cell_type": "code",
   "execution_count": 2,
   "id": "8dedd878",
   "metadata": {},
   "outputs": [],
   "source": [
    "# Create text string to open file\n",
    "years_avail = os.listdir('/Users/acheung/data/EC_SHIPS/Years')"
   ]
  },
  {
   "cell_type": "code",
   "execution_count": 12,
   "id": "af1a6ca4",
   "metadata": {},
   "outputs": [],
   "source": [
    "atl_shear_info = []\n",
    "epac_shear_info = []\n",
    "for year in years_avail:\n",
    "    files_in_year_avail = os.listdir('/Users/acheung/data/EC_SHIPS/Years/'+year)\n",
    "    for file_now in files_in_year_avail:\n",
    "        file1 = open('/Users/acheung/data/EC_SHIPS/Years/'+year+'/'+file_now, 'r')\n",
    "        year_str = int(file_now[3:5]) + 2000\n",
    "        month = int(file_now[5:7])\n",
    "        day = int(file_now[7:9])\n",
    "        hour = int(file_now[9:11])\n",
    "        dt_now = datetime(year_str,month,day,hour)   \n",
    "        atcf_id = file_now[11:15] + '20' + file_now[15:17]\n",
    "        basin_id = atcf_id[0:2]\n",
    "\n",
    "        count = 0\n",
    "\n",
    "        # Using for loop\n",
    "#         print(\"Using for loop\")\n",
    "        for line in file1:\n",
    "            count += 1\n",
    "            var_name = line[0:14]\n",
    "            if var_name == 'SHEAR (KT)    ':      \n",
    "                shear = float(line[18:20])\n",
    "                current_shear_info = [int(year),atcf_id,dt_now,shear]\n",
    "                if basin_id == 'AL':\n",
    "                    atl_shear_info.append(current_shear_info)\n",
    "                if basin_id == 'EP':\n",
    "                    epac_shear_info.append(current_shear_info)\n",
    "        \n",
    "# Closing files\n",
    "file1.close()"
   ]
  },
  {
   "cell_type": "code",
   "execution_count": 27,
   "id": "e9c405c6",
   "metadata": {},
   "outputs": [],
   "source": [
    "pre_df_atl = pd.DataFrame(atl_shear_info)\n",
    "\n",
    "RI_pd_atl = pd.DataFrame(pre_df_atl[3].values,index=[pre_df_atl[0],pre_df_atl[1],pre_df_atl[2]],columns=['Deep_Layer_Shear'])\n",
    "RI_pd_atl.index.names = ['Year','Storm_ID','Time'] # These are the axis\n",
    "RI_pd_sorted_atl = RI_pd_atl.sort_index()\n",
    "RI_pd_sorted_atl = RI_pd_sorted_atl.reset_index(level=0, drop=True)\n",
    "RI_pd_sorted_atl.to_csv('/Users/acheung/data/EC_SHIPS/EC-SHIPS_deep_layer_shear_atl.csv')"
   ]
  },
  {
   "cell_type": "code",
   "execution_count": 28,
   "id": "ec46c3bf",
   "metadata": {},
   "outputs": [],
   "source": [
    "pre_df_ep = pd.DataFrame(epac_shear_info)\n",
    "\n",
    "RI_pd_ep = pd.DataFrame(pre_df_ep[3].values,index=[pre_df_ep[0],pre_df_ep[1],pre_df_ep[2]],columns=['Deep_Layer_Shear'])\n",
    "RI_pd_ep.index.names = ['Year','Storm_ID','Time'] # These are the axis\n",
    "RI_pd_sorted_ep = RI_pd_ep.sort_index()\n",
    "RI_pd_sorted_ep = RI_pd_sorted_ep.reset_index(level=0, drop=True)\n",
    "RI_pd_sorted_ep.to_csv('/Users/acheung/data/EC_SHIPS/EC-SHIPS_deep_layer_shear_epac.csv')"
   ]
  },
  {
   "cell_type": "code",
   "execution_count": null,
   "id": "a446764b",
   "metadata": {},
   "outputs": [],
   "source": []
  }
 ],
 "metadata": {
  "kernelspec": {
   "display_name": "Python [conda env:besttrack] *",
   "language": "python",
   "name": "conda-env-besttrack-py"
  },
  "language_info": {
   "codemirror_mode": {
    "name": "ipython",
    "version": 3
   },
   "file_extension": ".py",
   "mimetype": "text/x-python",
   "name": "python",
   "nbconvert_exporter": "python",
   "pygments_lexer": "ipython3",
   "version": "3.11.7"
  }
 },
 "nbformat": 4,
 "nbformat_minor": 5
}
