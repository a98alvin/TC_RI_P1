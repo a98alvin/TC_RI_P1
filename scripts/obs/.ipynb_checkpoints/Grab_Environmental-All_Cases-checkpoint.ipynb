{
 "cells": [
  {
   "cell_type": "code",
   "execution_count": 6,
   "id": "58d276ef",
   "metadata": {},
   "outputs": [],
   "source": [
    "import pandas as pd\n",
    "from datetime import datetime, timedelta\n",
    "import numpy as np\n",
    "import matplotlib.pyplot as plt\n",
    "import tropycal.tracks as tracks\n"
   ]
  },
  {
   "cell_type": "code",
   "execution_count": 7,
   "id": "e195d359",
   "metadata": {},
   "outputs": [],
   "source": [
    "\n",
    "desired_basin = 'north_atlantic' # east_pacific or north_atlantic\n",
    "year_start = 2000\n",
    "year_end = 2022\n",
    "dt1 = datetime(year=year_start,month=1,day=1)\n",
    "dt2 = datetime(year=year_end,month=12,day=31)"
   ]
  },
  {
   "cell_type": "code",
   "execution_count": 8,
   "id": "b4a5b045",
   "metadata": {},
   "outputs": [
    {
     "name": "stdout",
     "output_type": "stream",
     "text": [
      "--> Starting to read in HURDAT2 data\n",
      "--> Completed reading in HURDAT2 data (2.4 seconds)\n"
     ]
    }
   ],
   "source": [
    "# Generate a list of storm names and ATCF IDs\n",
    "\n",
    "basin = tracks.TrackDataset(basin=desired_basin,source='hurdat',include_btk=False)\n",
    "\n",
    "\n",
    "szn_list = []\n",
    "for szn in range(year_start,year_end+1):\n",
    "    one_season = basin.get_season(szn).to_dataframe().set_index(['id'])\n",
    "    szn_list.append(one_season)\n",
    "atcf_id_sname_list = pd.concat(szn_list,axis=0)['name']"
   ]
  },
  {
   "cell_type": "code",
   "execution_count": 22,
   "id": "97f6025a",
   "metadata": {
    "tags": []
   },
   "outputs": [],
   "source": [
    "# Grab with regular SHIPS\n",
    "\n",
    "# Variables from SHIPS. HSTA and HEND are variables I made up for hours after RI start and hours before RI end.\n",
    "variables = ['LAT','LON','TYPE','VMAX','SHRD','SHTD','VMPI','COHC','RSST','RHLO','RHMD','IR00','DTL']\n",
    "\n",
    "basin = 'north_atlantic' # east_pacific or north_atlantic\n",
    "\n",
    "# # Read in RI cases\n",
    "# RI = pd.read_csv('/Users/acheung/data/RI_Cases/RI_Events_'+basin+'.csv')\n",
    "\n",
    "# # Convert columns to datetime format\n",
    "# RI[\"RI Start\"] = pd.to_datetime(RI[\"RI Start\"])\n",
    "# RI[\"RI End\"] = pd.to_datetime(RI[\"RI End\"])\n",
    "\n",
    "list_pds = [] # Saves all the information as one big list!\n",
    "\n",
    "for var_ind in range(len(variables)): # Loops through all variables\n",
    "\n",
    "    SHIPS_data = pd.read_csv('/Users/acheung/data/SHIPS/SHIPS_'+variables[var_ind]+'_'+desired_basin+'.csv')\n",
    "    # Generate storm names list from ATCF IDs\n",
    "    SHIPS_data['Time'] = pd.to_datetime(SHIPS_data['Time'])\n",
    "#     SHIPS_data = SHIPS_data.set_index('Time')\n",
    "    SHIPS_data = SHIPS_data.set_index(['Time','Storm_ID'])\n",
    "    SHIPS_trimmed = SHIPS_data.iloc[(SHIPS_data.index.get_level_values(0) >= dt1 ) &\n",
    "                                    (SHIPS_data.index.get_level_values(0) <= dt2)]\n",
    "    list_pds.append(SHIPS_trimmed)\n",
    "\n",
    "# Concatenate all the pandas arrays\n",
    "SHIPS_concat = pd.concat(list_pds,axis=1)\n",
    "\n",
    "# # Save to CSV\n",
    "# SHIPS_concat.to_csv(\"/Users/acheung/data/RI_Cases/RI_Events_with_SHIPS_Data_\"+basin+\".csv\")\n"
   ]
  },
  {
   "cell_type": "code",
   "execution_count": 23,
   "id": "0782cc14",
   "metadata": {},
   "outputs": [],
   "source": [
    "# Can open any file for generating list of storm names from SHIPS ATCF IDs\n",
    "SHIPS_data = pd.read_csv('/Users/acheung/data/SHIPS/SHIPS_'+variables[0]+'_'+desired_basin+'.csv')\n",
    "\n",
    "# Generate storm names list from ATCF IDs\n",
    "names_list = []\n",
    "for id_ind in range(len(SHIPS_concat.index.get_level_values(1))):\n",
    "    id_now = SHIPS_concat.index.get_level_values(1)[id_ind]\n",
    "    name_now = atcf_id_sname_list.loc[id_now]\n",
    "    names_list.append(name_now)"
   ]
  },
  {
   "cell_type": "code",
   "execution_count": 24,
   "id": "f60cf30e",
   "metadata": {},
   "outputs": [],
   "source": [
    "names_pd = pd.DataFrame(names_list,index=SHIPS_concat.index,columns=['Name'])\n",
    "SHIPS_with_name = pd.concat((SHIPS_concat,names_pd),axis=1)\n",
    "SHIPS_with_name = SHIPS_with_name.reset_index().set_index(['Time','Storm_ID','Name'])\n",
    "# # Save to CSV\n",
    "SHIPS_with_name.to_csv(\"/Users/acheung/data/SHIPS/all_SHIPs_data_combined_\"+desired_basin+\".csv\")"
   ]
  },
  {
   "cell_type": "code",
   "execution_count": 8,
   "id": "d0963fbc",
   "metadata": {},
   "outputs": [],
   "source": [
    "# # Grab with regular EC-SHIPS\n",
    "\n",
    "\n",
    "# basin_EC = 'north_atlantic'\n",
    "\n",
    "# RI_EC_pre = pd.read_csv('/Users/acheung/data/RI_Cases/RI_Events_'+basin_EC+'.csv')\n",
    "# if basin_EC == 'north_atlantic':\n",
    "#     EC_SHIPS_shear = pd.read_csv('/Users/acheung/data/EC_SHIPS/EC-SHIPS_deep_layer_shear_atl.csv')\n",
    "# elif basin_EC == 'east_pacific':\n",
    "#     EC_SHIPS_shear = pd.read_csv('/Users/acheung/data/EC_SHIPS/EC-SHIPS_deep_layer_shear_epac.csv')\n",
    "\n",
    "# RI_EC = RI_EC_pre.where(RI_EC_pre['Season'] >= 2016).dropna()\n",
    "    \n",
    "# all_EC_shears = []\n",
    "# for i in range(len(RI_EC)):\n",
    "#     current_storm_shear_EC = EC_SHIPS_shear.where(EC_SHIPS_shear['Storm_ID'] ==\n",
    "#                                             RI_EC.iloc[[i]]['Storm_ID'].values[0]).dropna()\n",
    "#     if len(current_storm_shear_EC.where(\n",
    "#         current_storm_shear_EC['Time'] == RI_EC.iloc[[i]]['RI Start'].values[0]).dropna()['Deep_Layer_Shear']) == 0:\n",
    "#         # Some data is missing from EC-SHIPS, so we record NaN in these cases\n",
    "#         all_EC_shears.append(np.nan)\n",
    "#     else: # When data from EC-SHIPS is not missing\n",
    "#         current_shear_RI = current_storm_shear_EC.where(\n",
    "#             current_storm_shear_EC['Time'] == RI_EC.iloc[[i]]['RI Start'].values[0]).dropna()['Deep_Layer_Shear'].values[0]\n",
    "#         all_EC_shears.append(current_shear_RI)\n",
    "    \n",
    "# RI_EC.insert(6, \"Deep-Layer Shear (kt)\", all_EC_shears)\n",
    "# RI_EC.to_csv(\"/Users/acheung/data/RI_Cases/RI_Events_with_EC_SHIPS_shear_\"+basin_EC+\".csv\",index=False)\n"
   ]
  },
  {
   "cell_type": "raw",
   "id": "2f98b05f",
   "metadata": {},
   "source": []
  }
 ],
 "metadata": {
  "kernelspec": {
   "display_name": "Python [conda env:besttrack] *",
   "language": "python",
   "name": "conda-env-besttrack-py"
  },
  "language_info": {
   "codemirror_mode": {
    "name": "ipython",
    "version": 3
   },
   "file_extension": ".py",
   "mimetype": "text/x-python",
   "name": "python",
   "nbconvert_exporter": "python",
   "pygments_lexer": "ipython3",
   "version": "3.11.7"
  }
 },
 "nbformat": 4,
 "nbformat_minor": 5
}
