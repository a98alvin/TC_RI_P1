{
 "cells": [
  {
   "cell_type": "code",
   "execution_count": 1,
   "id": "df593c68",
   "metadata": {},
   "outputs": [],
   "source": [
    "# Step two is to compile SHIPS data\n",
    "\n",
    "from datetime import datetime\n",
    "import pandas as pd"
   ]
  },
  {
   "cell_type": "code",
   "execution_count": 2,
   "id": "fbe003a8",
   "metadata": {},
   "outputs": [
    {
     "name": "stdout",
     "output_type": "stream",
     "text": [
      "Using for loop\n"
     ]
    }
   ],
   "source": [
    "basin = 'east_pacific' # note that this uses a combined file with CPAC\n",
    "\n",
    "# Opening file\n",
    "if basin == 'north_atlantic':\n",
    "    file1 = open('/Users/acheung/data/SHIPS/lsdiaga_1982_2022_sat_ts_5day.txt', 'r')\n",
    "elif basin == 'east_pacific':\n",
    "    file1 = open('/Users/acheung/data/SHIPS/lsdiagec_1982_2022_sat_ts_5day.txt', 'r')\n",
    "\n",
    "count = 0\n",
    "\n",
    "# Using for loop\n",
    "print(\"Using for loop\")\n",
    "shear_info = []\n",
    "for line in file1:\n",
    "    count += 1\n",
    "    header = line[116:120]\n",
    "    if header == 'HEAD':\n",
    "        stormid = line[40:48]\n",
    "        hour = line[13:15]\n",
    "        date = line[6:12]\n",
    "        current_datetime = datetime.strptime(date+hour,\"%y%m%d%H\")\n",
    "    if header == 'SHRD': # select variable\n",
    "        shear = int(line[12:15])/10 # in kt... these indices grab current time\n",
    "        current_shear_info = [stormid,current_datetime,shear]\n",
    "        shear_info.append(current_shear_info)\n",
    "        \n",
    "# Closing files\n",
    "file1.close()"
   ]
  },
  {
   "cell_type": "code",
   "execution_count": 6,
   "id": "e2a7d45f",
   "metadata": {},
   "outputs": [],
   "source": [
    "pre_df = pd.DataFrame(shear_info)\n",
    "\n",
    "RI_pd = pd.DataFrame(pre_df[2].values,index=[pre_df[0],pre_df[1]],columns=['Deep_Layer_Shear'])\n",
    "RI_pd.index.names = ['Storm_ID','Time'] # These are the axis\n",
    "RI_pd.to_csv('/Users/acheung/data/SHIPS/SHIPS_deep_layer_shear_'+basin+'.csv')\n"
   ]
  },
  {
   "cell_type": "code",
   "execution_count": null,
   "id": "e4bed9d2",
   "metadata": {},
   "outputs": [],
   "source": []
  }
 ],
 "metadata": {
  "kernelspec": {
   "display_name": "Python [conda env:besttrack] *",
   "language": "python",
   "name": "conda-env-besttrack-py"
  },
  "language_info": {
   "codemirror_mode": {
    "name": "ipython",
    "version": 3
   },
   "file_extension": ".py",
   "mimetype": "text/x-python",
   "name": "python",
   "nbconvert_exporter": "python",
   "pygments_lexer": "ipython3",
   "version": "3.11.7"
  }
 },
 "nbformat": 4,
 "nbformat_minor": 5
}
