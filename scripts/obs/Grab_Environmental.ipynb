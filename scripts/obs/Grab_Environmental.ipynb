{
 "cells": [
  {
   "cell_type": "code",
   "execution_count": 9,
   "id": "58d276ef",
   "metadata": {},
   "outputs": [],
   "source": [
    "import pandas as pd\n",
    "from datetime import datetime, timedelta\n",
    "import numpy as np"
   ]
  },
  {
   "cell_type": "code",
   "execution_count": 12,
   "id": "97f6025a",
   "metadata": {},
   "outputs": [],
   "source": [
    "# Grab with regular SHIPS\n",
    "\n",
    "basin = 'east_pacific'\n",
    "\n",
    "RI = pd.read_csv('/Users/acheung/data/RI_Cases/RI_Events_'+basin+'.csv')\n",
    "SHIPS_shear = pd.read_csv('/Users/acheung/data/SHIPS/SHIPS_deep_layer_shear_'+basin+'.csv')\n",
    "\n",
    "all_shears = []\n",
    "for i in range(len(RI)):\n",
    "    current_storm_shear = SHIPS_shear.where(SHIPS_shear['Storm_ID'] ==\n",
    "                                            RI.iloc[[i]]['Storm_ID'].values[0]).dropna()\n",
    "    current_shear_RI = current_storm_shear.where(\n",
    "        current_storm_shear['Time'] == RI.iloc[[i]]['RI Start'].values[0]).dropna()['Deep_Layer_Shear'].values[0]\n",
    "#     print(ATL_RI.iloc[[i]],current_shear_RI)\n",
    "    all_shears.append(current_shear_RI)\n",
    "RI.insert(6, \"Deep-Layer Shear (kt)\", all_shears)\n",
    "RI.to_csv(\"/Users/acheung/data/RI_Cases/RI_Events_with_shear_\"+basin+\".csv\",index=False)"
   ]
  },
  {
   "cell_type": "code",
   "execution_count": 13,
   "id": "d0963fbc",
   "metadata": {},
   "outputs": [],
   "source": [
    "# Grab with regular EC-SHIPS\n",
    "\n",
    "\n",
    "basin_EC = 'north_atlantic'\n",
    "\n",
    "RI_EC_pre = pd.read_csv('/Users/acheung/data/RI_Cases/RI_Events_'+basin_EC+'.csv')\n",
    "if basin_EC == 'north_atlantic':\n",
    "    EC_SHIPS_shear = pd.read_csv('/Users/acheung/data/EC_SHIPS/EC-SHIPS_deep_layer_shear_atl.csv')\n",
    "elif basin_EC == 'east_pacific':\n",
    "    EC_SHIPS_shear = pd.read_csv('/Users/acheung/data/EC_SHIPS/EC-SHIPS_deep_layer_shear_epac.csv')\n",
    "\n",
    "RI_EC = RI_EC_pre.where(RI_EC_pre['Season'] >= 2016).dropna()\n",
    "    \n",
    "all_EC_shears = []\n",
    "for i in range(len(RI_EC)):\n",
    "    current_storm_shear_EC = EC_SHIPS_shear.where(EC_SHIPS_shear['Storm_ID'] ==\n",
    "                                            RI_EC.iloc[[i]]['Storm_ID'].values[0]).dropna()\n",
    "    if len(current_storm_shear_EC.where(\n",
    "        current_storm_shear_EC['Time'] == RI_EC.iloc[[i]]['RI Start'].values[0]).dropna()['Deep_Layer_Shear']) == 0:\n",
    "        # Some data is missing from EC-SHIPS, so we record NaN in these cases\n",
    "        all_EC_shears.append(np.nan)\n",
    "    else: # When data from EC-SHIPS is not missing\n",
    "        current_shear_RI = current_storm_shear_EC.where(\n",
    "            current_storm_shear_EC['Time'] == RI_EC.iloc[[i]]['RI Start'].values[0]).dropna()['Deep_Layer_Shear'].values[0]\n",
    "        all_EC_shears.append(current_shear_RI)\n",
    "    \n",
    "RI_EC.insert(6, \"Deep-Layer Shear (kt)\", all_EC_shears)\n",
    "RI_EC.to_csv(\"/Users/acheung/data/RI_Cases/RI_Events_with_EC_SHIPS_shear_\"+basin_EC+\".csv\",index=False)\n"
   ]
  },
  {
   "cell_type": "code",
   "execution_count": null,
   "id": "885a0878",
   "metadata": {},
   "outputs": [],
   "source": []
  }
 ],
 "metadata": {
  "kernelspec": {
   "display_name": "Python [conda env:besttrack] *",
   "language": "python",
   "name": "conda-env-besttrack-py"
  },
  "language_info": {
   "codemirror_mode": {
    "name": "ipython",
    "version": 3
   },
   "file_extension": ".py",
   "mimetype": "text/x-python",
   "name": "python",
   "nbconvert_exporter": "python",
   "pygments_lexer": "ipython3",
   "version": "3.11.7"
  }
 },
 "nbformat": 4,
 "nbformat_minor": 5
}
