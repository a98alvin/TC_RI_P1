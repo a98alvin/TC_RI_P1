{
 "cells": [
  {
   "cell_type": "code",
   "execution_count": 60,
   "id": "df593c68",
   "metadata": {},
   "outputs": [],
   "source": [
    "# Step two is to compile SHIPS data\n",
    "\n",
    "from datetime import datetime\n",
    "import pandas as pd\n",
    "basin = 'north_atlantic' # note that this uses a combined file with CPAC"
   ]
  },
  {
   "cell_type": "code",
   "execution_count": 61,
   "id": "499d62d7",
   "metadata": {},
   "outputs": [],
   "source": [
    "def SHIPS_Processing(basin,variable): # For radius of maximum BT, enter IR00\n",
    "    # Opening file\n",
    "    if basin == 'north_atlantic':\n",
    "        file1 = open('/Users/acheung/data/SHIPS/lsdiaga_1982_2022_sat_ts_5day.txt', 'r')\n",
    "    elif basin == 'east_pacific':\n",
    "        file1 = open('/Users/acheung/data/SHIPS/lsdiagec_1982_2022_sat_ts_5day.txt', 'r')\n",
    "\n",
    "    count = 0\n",
    "\n",
    "    # Using for loop\n",
    "    print(\"Using for loop\")\n",
    "    var_info = []\n",
    "    for line in file1:\n",
    "        count += 1\n",
    "        header = line[116:120].strip() # Removes space at the end for 3 letter variables\n",
    "#         print(header.strip())\n",
    "        if header == 'HEAD':\n",
    "            stormid = line[40:48]\n",
    "            hour = line[13:15]\n",
    "            date = line[6:12]\n",
    "            current_datetime = datetime.strptime(date+hour,\"%y%m%d%H\")\n",
    "        if header == variable: # select variable\n",
    "            if variable == 'SHRD':\n",
    "                var_now = int(line[11:15])/10 # in kt\n",
    "            elif variable == 'RSST':\n",
    "                var_now = int(line[11:15])/10 # in deg C\n",
    "            elif variable =='IR00': # Radius of maximum BT\n",
    "                var_now = int(line[77:80]) # in km. Different column for this variable!\n",
    "            elif (variable == 'LAT') or (variable == 'LON'):\n",
    "                var_now = int(line[11:15])/10 # in deg N or deg W\n",
    "            else:\n",
    "                var_now = int(line[11:15])\n",
    "            current_var_info = [stormid,current_datetime,var_now]\n",
    "            # print(current_var_info)\n",
    "\n",
    "            var_info.append(current_var_info)\n",
    "\n",
    "    # Closing files\n",
    "    file1.close()\n",
    "    \n",
    "    pre_df = pd.DataFrame(var_info)\n",
    "    \n",
    "    data_pd = pd.DataFrame(pre_df[2].values,index=[pre_df[0],pre_df[1]],columns=[variable])\n",
    "    data_pd.index.names = ['Storm_ID','Time'] # These are the axis\n",
    "    data_pd.to_csv('/Users/acheung/data/SHIPS/SHIPS_'+variable+'_'+basin+'.csv')\n"
   ]
  },
  {
   "cell_type": "code",
   "execution_count": 74,
   "id": "477da3fd",
   "metadata": {},
   "outputs": [
    {
     "name": "stdout",
     "output_type": "stream",
     "text": [
      "Using for loop\n"
     ]
    }
   ],
   "source": [
    "SHIPS_Processing(basin,'RHLO')"
   ]
  },
  {
   "cell_type": "code",
   "execution_count": 14,
   "id": "fbe003a8",
   "metadata": {},
   "outputs": [
    {
     "name": "stdout",
     "output_type": "stream",
     "text": [
      "Using for loop\n"
     ]
    }
   ],
   "source": [
    "\n",
    "# # Opening file\n",
    "# if basin == 'north_atlantic':\n",
    "#     file1 = open('/Users/acheung/data/SHIPS/lsdiaga_1982_2022_sat_ts_5day.txt', 'r')\n",
    "# elif basin == 'east_pacific':\n",
    "#     file1 = open('/Users/acheung/data/SHIPS/lsdiagec_1982_2022_sat_ts_5day.txt', 'r')\n",
    "\n",
    "# count = 0\n",
    "\n",
    "# # Using for loop\n",
    "# print(\"Using for loop\")\n",
    "# shear_info = []\n",
    "# for line in file1:\n",
    "#     count += 1\n",
    "#     header = line[116:120]\n",
    "#     if header == 'HEAD':\n",
    "#         stormid = line[40:48]\n",
    "#         hour = line[13:15]\n",
    "#         date = line[6:12]\n",
    "#         current_datetime = datetime.strptime(date+hour,\"%y%m%d%H\")\n",
    "#     if header == 'SHRD': # select variable\n",
    "#         shear = int(line[12:15])/10 # in kt... these indices grab current time\n",
    "#         current_shear_info = [stormid,current_datetime,shear]\n",
    "#         shear_info.append(current_shear_info)\n",
    "        \n",
    "# # Closing files\n",
    "# file1.close()\n",
    "\n",
    "# pre_df = pd.DataFrame(shear_info)\n",
    "\n",
    "# data_pd = pd.DataFrame(pre_df[2].values,index=[pre_df[0],pre_df[1]],columns=['Deep_Layer_Shear'])\n",
    "# data_pd.index.names = ['Storm_ID','Time'] # These are the axis\n",
    "# data_pd.to_csv('/Users/acheung/data/SHIPS/SHIPS_SHRD_'+basin+'.csv')\n"
   ]
  },
  {
   "cell_type": "code",
   "execution_count": 25,
   "id": "e4bed9d2",
   "metadata": {},
   "outputs": [
    {
     "name": "stdout",
     "output_type": "stream",
     "text": [
      "Using for loop\n"
     ]
    }
   ],
   "source": [
    "# # Shear Direction\n",
    "\n",
    "# # Opening file\n",
    "# if basin == 'north_atlantic':\n",
    "#     file1 = open('/Users/acheung/data/SHIPS/lsdiaga_1982_2022_sat_ts_5day.txt', 'r')\n",
    "# elif basin == 'east_pacific':\n",
    "#     file1 = open('/Users/acheung/data/SHIPS/lsdiagec_1982_2022_sat_ts_5day.txt', 'r')\n",
    "\n",
    "# count = 0\n",
    "\n",
    "# # Using for loop\n",
    "# print(\"Using for loop\")\n",
    "# shear_dir_info = []\n",
    "# for line in file1:\n",
    "#     count += 1\n",
    "#     header = line[116:120]\n",
    "#     if header == 'HEAD':\n",
    "#         stormid = line[40:48]\n",
    "#         hour = line[13:15]\n",
    "#         date = line[6:12]\n",
    "#         current_datetime = datetime.strptime(date+hour,\"%y%m%d%H\")\n",
    "#     if header == 'SHTD': # select variable\n",
    "#         shear_dir = int(line[12:15])/10 # in kt... these indices grab current time\n",
    "#         current_shear_dir_info = [stormid,current_datetime,shear_dir]\n",
    "#         shear_dir_info.append(current_shear_dir_info)\n",
    "        \n",
    "# # Closing files\n",
    "# file1.close()\n",
    "\n",
    "# pre_df = pd.DataFrame(shear_dir_info)\n",
    "\n",
    "# data_pd = pd.DataFrame(pre_df[2].values,index=[pre_df[0],pre_df[1]],columns=['Deep_Layer_Shear'])\n",
    "# data_pd.index.names = ['Storm_ID','Time'] # These are the axis\n",
    "# data_pd.to_csv('/Users/acheung/data/SHIPS/SHIPS_SHTD_'+basin+'.csv')"
   ]
  },
  {
   "cell_type": "code",
   "execution_count": 26,
   "id": "276efc93",
   "metadata": {},
   "outputs": [
    {
     "name": "stdout",
     "output_type": "stream",
     "text": [
      "Using for loop\n"
     ]
    }
   ],
   "source": [
    "# # Distance to Major Land Mass\n",
    "\n",
    "# # Opening file\n",
    "# if basin == 'north_atlantic':\n",
    "#     file1 = open('/Users/acheung/data/SHIPS/lsdiaga_1982_2022_sat_ts_5day.txt', 'r')\n",
    "# elif basin == 'east_pacific':\n",
    "#     file1 = open('/Users/acheung/data/SHIPS/lsdiagec_1982_2022_sat_ts_5day.txt', 'r')\n",
    "\n",
    "# count = 0\n",
    "\n",
    "# # Using for loop\n",
    "# print(\"Using for loop\")\n",
    "# shear_dir_info = []\n",
    "# for line in file1:\n",
    "#     count += 1\n",
    "#     header = line[116:120]\n",
    "#     if header == 'HEAD':\n",
    "#         stormid = line[40:48]\n",
    "#         hour = line[13:15]\n",
    "#         date = line[6:12]\n",
    "#         current_datetime = datetime.strptime(date+hour,\"%y%m%d%H\")\n",
    "#     if header == 'SHTD': # select variable\n",
    "#         shear_dir = int(line[12:15])/10 # in kt... these indices grab current time\n",
    "#         current_shear_dir_info = [stormid,current_datetime,shear_dir]\n",
    "#         shear_dir_info.append(current_shear_dir_info)\n",
    "        \n",
    "# # Closing files\n",
    "# file1.close()\n",
    "\n",
    "# pre_df = pd.DataFrame(shear_dir_info)\n",
    "\n",
    "# data_pd = pd.DataFrame(pre_df[2].values,index=[pre_df[0],pre_df[1]],columns=['Deep_Layer_Shear'])\n",
    "# data_pd.index.names = ['Storm_ID','Time'] # These are the axis\n",
    "# data_pd.to_csv('/Users/acheung/data/SHIPS/SHIPS_SHTD_'+basin+'.csv')"
   ]
  },
  {
   "cell_type": "code",
   "execution_count": null,
   "id": "adc25e6b",
   "metadata": {},
   "outputs": [],
   "source": []
  }
 ],
 "metadata": {
  "kernelspec": {
   "display_name": "Python [conda env:besttrack] *",
   "language": "python",
   "name": "conda-env-besttrack-py"
  },
  "language_info": {
   "codemirror_mode": {
    "name": "ipython",
    "version": 3
   },
   "file_extension": ".py",
   "mimetype": "text/x-python",
   "name": "python",
   "nbconvert_exporter": "python",
   "pygments_lexer": "ipython3",
   "version": "3.11.7"
  }
 },
 "nbformat": 4,
 "nbformat_minor": 5
}
