{
 "cells": [
  {
   "cell_type": "code",
   "execution_count": 1,
   "id": "42f60039",
   "metadata": {},
   "outputs": [],
   "source": [
    "import os\n",
    "import numpy as np"
   ]
  },
  {
   "cell_type": "code",
   "execution_count": 2,
   "id": "f89e3bd3",
   "metadata": {},
   "outputs": [],
   "source": [
    "# This identifies which directories are ints\n",
    "\n",
    "def iserror(func, *args, **kw):\n",
    "    try:\n",
    "        func(*args, **kw)\n",
    "        return False\n",
    "    except Exception:\n",
    "        return True\n",
    "\n",
    "err_boo_arr = []\n",
    "years_in_dir = os.listdir('/Users/acheung/data/Figures/IMERG_Centering_Eval/')\n",
    "years_in_dir_arr = np.asarray(years_in_dir)\n",
    "for checker in years_in_dir_arr:\n",
    "    err_boo = iserror(int, checker)\n",
    "    err_boo_arr.append(err_boo)"
   ]
  },
  {
   "cell_type": "code",
   "execution_count": 3,
   "id": "9fe71192",
   "metadata": {},
   "outputs": [],
   "source": [
    "for i in np.where(np.asarray(err_boo_arr) == False)[0]: # Temporary fix to avoid two non-year files\n",
    "    storms_in_year = os.listdir('/Users/acheung/data/Figures/IMERG_Centering_Eval/'+years_in_dir[i])\n",
    "    for s in range(len(storms_in_year)):\n",
    "        os.chdir('/Users/acheung/data/Figures/IMERG_Centering_Eval/'+years_in_dir[i]+'/'+storms_in_year[s])\n",
    "        out_file = storms_in_year[s]+'_'+years_in_dir[i]+'.gif'\n",
    "        if os.path.exists('/Users/acheung/data/Figures/IMERG_Centering_Eval/GIFs/'+out_file) == True:\n",
    "            continue\n",
    "        os.system('convert -delay 20 -loop 0 *.png ' + '/Users/acheung/data/Figures/IMERG_Centering_Eval/GIFs/'+out_file)\n",
    "        print(years_in_dir[i],storms_in_year[s])"
   ]
  },
  {
   "cell_type": "code",
   "execution_count": null,
   "id": "977529f4",
   "metadata": {},
   "outputs": [],
   "source": []
  }
 ],
 "metadata": {
  "kernelspec": {
   "display_name": "Python [conda env:besttrack] *",
   "language": "python",
   "name": "conda-env-besttrack-py"
  },
  "language_info": {
   "codemirror_mode": {
    "name": "ipython",
    "version": 3
   },
   "file_extension": ".py",
   "mimetype": "text/x-python",
   "name": "python",
   "nbconvert_exporter": "python",
   "pygments_lexer": "ipython3",
   "version": "3.11.7"
  }
 },
 "nbformat": 4,
 "nbformat_minor": 5
}
