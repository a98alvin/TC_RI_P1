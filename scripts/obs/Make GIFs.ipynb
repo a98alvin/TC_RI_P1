{
 "cells": [
  {
   "cell_type": "code",
   "execution_count": 1,
   "id": "c45cf3dd",
   "metadata": {},
   "outputs": [],
   "source": [
    "import os"
   ]
  },
  {
   "cell_type": "code",
   "execution_count": 17,
   "id": "7fccfad2",
   "metadata": {},
   "outputs": [
    {
     "name": "stdout",
     "output_type": "stream",
     "text": [
      "2014 HERNAN\n",
      "2014 CRISTINA\n",
      "2011 DORA\n",
      "2015 ANDRES\n",
      "2005 OTIS\n",
      "2006 PAUL\n",
      "2018 SERGIO\n",
      "2001 FLOSSIE\n",
      "2016 DARBY\n",
      "2016 ORLENE\n",
      "2016 MADELINE\n",
      "2017 HILARY\n",
      "2019 ERICK\n",
      "2009 RICK\n",
      "2009 FELICIA\n",
      "2007 IVO\n",
      "2002 HERNAN\n",
      "2004 ISIS\n",
      "2003 LINDA\n"
     ]
    }
   ],
   "source": [
    "years_in_dir = os.listdir('/Users/acheung/data/Figures/IMERG_Centering_Eval/')\n",
    "for i in range(0,len(years_in_dir)-2): # Temporary fix to avoid two non-year files\n",
    "    storms_in_year = os.listdir('/Users/acheung/data/Figures/IMERG_Centering_Eval/'+years_in_dir[i])\n",
    "    for s in range(len(storms_in_year)):\n",
    "        os.chdir('/Users/acheung/data/Figures/IMERG_Centering_Eval/'+years_in_dir[i]+'/'+storms_in_year[s])\n",
    "        out_file = storms_in_year[s]+'_'+years_in_dir[i]+'.gif'\n",
    "        if os.path.exists('/Users/acheung/data/Figures/IMERG_Centering_Eval/GIFs/'+out_file) == True:\n",
    "            continue\n",
    "        os.system('convert -delay 20 -loop 0 *.png ' + '/Users/acheung/data/Figures/IMERG_Centering_Eval/GIFs/'+out_file)\n",
    "        print(years_in_dir[i],storms_in_year[s])"
   ]
  },
  {
   "cell_type": "code",
   "execution_count": null,
   "id": "6e533203",
   "metadata": {},
   "outputs": [],
   "source": []
  }
 ],
 "metadata": {
  "kernelspec": {
   "display_name": "Python [conda env:besttrack] *",
   "language": "python",
   "name": "conda-env-besttrack-py"
  },
  "language_info": {
   "codemirror_mode": {
    "name": "ipython",
    "version": 3
   },
   "file_extension": ".py",
   "mimetype": "text/x-python",
   "name": "python",
   "nbconvert_exporter": "python",
   "pygments_lexer": "ipython3",
   "version": "3.11.7"
  }
 },
 "nbformat": 4,
 "nbformat_minor": 5
}
