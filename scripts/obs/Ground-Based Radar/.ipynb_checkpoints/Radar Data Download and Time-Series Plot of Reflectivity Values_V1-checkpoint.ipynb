{
 "cells": [
  {
   "cell_type": "markdown",
   "metadata": {
    "id": "vk_j-PHIrk6R"
   },
   "source": [
    "# Nexrad Radar Download and Plotting Created By: Alex Alvin Cheung\n",
    "# Multiprocessing Suggestions: Karl Schneider"
   ]
  },
  {
   "cell_type": "markdown",
   "metadata": {
    "id": "NFWZDYUWrk6U"
   },
   "source": [
    "# Download radar data"
   ]
  },
  {
   "cell_type": "code",
   "execution_count": null,
   "metadata": {
    "id": "rE6Rp2lkrk6V",
    "outputId": "47432b1a-ea5e-4ec4-b482-255699040387"
   },
   "outputs": [
    {
     "name": "stdout",
     "output_type": "stream",
     "text": [
      "\n",
      "## You are using the Python ARM Radar Toolkit (Py-ART), an open source\n",
      "## library for working with weather radar data. Py-ART is partly\n",
      "## supported by the U.S. Department of Energy as part of the Atmospheric\n",
      "## Radiation Measurement (ARM) Climate Research Facility, an Office of\n",
      "## Science user facility.\n",
      "##\n",
      "## If you use this software to prepare a publication, please cite:\n",
      "##\n",
      "##     JJ Helmus and SM Collis, JORS 2016, doi: 10.5334/jors.119\n",
      "\n"
     ]
    }
   ],
   "source": [
    "# Import Libraries\n",
    "import matplotlib.pyplot as plt\n",
    "import numpy as np\n",
    "import pyart\n",
    "import nexradaws #pip install nexradaws\n",
    "from datetime import datetime, timedelta"
   ]
  },
  {
   "cell_type": "code",
   "execution_count": null,
   "metadata": {
    "id": "aKB8y3-krk6W"
   },
   "outputs": [],
   "source": [
    "#Create a connection to AWS Server\n",
    "conn = nexradaws.NexradAwsInterface()"
   ]
  },
  {
   "cell_type": "code",
   "execution_count": null,
   "metadata": {
    "id": "fsp1D4jHrk6W",
    "outputId": "1e6f69a2-786a-4175-ad3d-140b44633f30"
   },
   "outputs": [
    {
     "data": {
      "text/plain": [
       "[<AwsNexradFile object - 2017/01/30/KCCX/KCCX20170130_150103_V06>,\n",
       " <AwsNexradFile object - 2017/01/30/KCCX/KCCX20170130_151045_V06>,\n",
       " <AwsNexradFile object - 2017/01/30/KCCX/KCCX20170130_152028_V06>,\n",
       " <AwsNexradFile object - 2017/01/30/KCCX/KCCX20170130_153010_V06>,\n",
       " <AwsNexradFile object - 2017/01/30/KCCX/KCCX20170130_153953_V06>,\n",
       " <AwsNexradFile object - 2017/01/30/KCCX/KCCX20170130_154936_V06>,\n",
       " <AwsNexradFile object - 2017/01/30/KCCX/KCCX20170130_155918_V06>,\n",
       " <AwsNexradFile object - 2017/01/30/KCCX/KCCX20170130_160901_V06>,\n",
       " <AwsNexradFile object - 2017/01/30/KCCX/KCCX20170130_161843_V06>,\n",
       " <AwsNexradFile object - 2017/01/30/KCCX/KCCX20170130_162825_V06>,\n",
       " <AwsNexradFile object - 2017/01/30/KCCX/KCCX20170130_163825_V06>,\n",
       " <AwsNexradFile object - 2017/01/30/KCCX/KCCX20170130_164210_V06>,\n",
       " <AwsNexradFile object - 2017/01/30/KCCX/KCCX20170130_164713_V06>,\n",
       " <AwsNexradFile object - 2017/01/30/KCCX/KCCX20170130_165216_V06>,\n",
       " <AwsNexradFile object - 2017/01/30/KCCX/KCCX20170130_165717_V06>]"
      ]
     },
     "execution_count": 3,
     "metadata": {},
     "output_type": "execute_result"
    }
   ],
   "source": [
    "# Enter radar desired\n",
    "radarSite = 'KCCX'\n",
    "\n",
    "# Enter crash time (for labelling purposes)\n",
    "CrashTime = datetime(2017, 1, 30, 16, 00) # YYYY, MM,DD,HH,MM\n",
    "\n",
    "crashtimehour = CrashTime.hour\n",
    "crashtimemin = CrashTime.minute\n",
    "crashtimeyear = CrashTime.year\n",
    "crashtimemon = CrashTime.month\n",
    "crashtimeday = CrashTime.day\n",
    "point = (-79.19318,41.18528) # long,lat\n",
    "\n",
    "\n",
    "# Enter start and end time of desired time frame\n",
    "\n",
    "startTime = CrashTime + timedelta(hours=-1)\n",
    "endTime = CrashTime + timedelta(hours=1)\n",
    "\n",
    "# Get a list of available files on the AWS site\n",
    "radarScans = conn.get_avail_scans_in_range(startTime, endTime, radarSite)\n",
    "radarScans"
   ]
  },
  {
   "cell_type": "code",
   "execution_count": null,
   "metadata": {
    "id": "gvtdT7pMrk6X",
    "outputId": "cb58f1a7-55bb-4737-9cf5-81f659c21ee5"
   },
   "outputs": [
    {
     "name": "stdout",
     "output_type": "stream",
     "text": [
      "Downloaded KCCX20170130_153953_V06\n",
      "Downloaded KCCX20170130_153010_V06\n",
      "Downloaded KCCX20170130_150103_V06\n",
      "Downloaded KCCX20170130_154936_V06\n",
      "Downloaded KCCX20170130_152028_V06\n",
      "Downloaded KCCX20170130_151045_V06\n",
      "Downloaded KCCX20170130_160901_V06\n",
      "Downloaded KCCX20170130_162825_V06\n",
      "Downloaded KCCX20170130_161843_V06\n",
      "Downloaded KCCX20170130_155918_V06\n",
      "Downloaded KCCX20170130_163825_V06\n",
      "Downloaded KCCX20170130_164210_V06\n",
      "Downloaded KCCX20170130_164713_V06\n",
      "Downloaded KCCX20170130_165216_V06\n",
      "Downloaded KCCX20170130_165717_V06\n",
      "15 out of 15 files downloaded...0 errors\n"
     ]
    },
    {
     "data": {
      "text/plain": [
       "<nexradaws.resources.downloadresults.DownloadResults at 0x7f15284f91c0>"
      ]
     },
     "execution_count": 4,
     "metadata": {},
     "output_type": "execute_result"
    }
   ],
   "source": [
    "# conn.download()  will download the files in the radarScans list and dump them in the storage folder\n",
    "storageL2 = 'radarData' # Download location\n",
    "conn.download(radarScans, storageL2) # Downloads the radar files to the location"
   ]
  },
  {
   "cell_type": "code",
   "execution_count": null,
   "metadata": {
    "id": "8pgL-KMRrk6X"
   },
   "outputs": [],
   "source": [
    "# This checks for any irregular files\n",
    "counter = []\n",
    "for p in range(0,len(radarScans)):\n",
    "    file = radarScans[p].filename\n",
    "    if len(file) > 26:\n",
    "        counter.append(p)\n",
    "counter = np.asarray(counter)\n",
    "\n",
    "# Removes irregular files from the processing list\n",
    "for counterval in sorted(counter, reverse=True):\n",
    "    del radarScans[counterval]"
   ]
  },
  {
   "cell_type": "markdown",
   "metadata": {
    "id": "fjMhk0M8rk6X"
   },
   "source": [
    "# Determines the reflectivity values of a radius around a lat/lon point within a given timeframe."
   ]
  },
  {
   "cell_type": "markdown",
   "metadata": {
    "id": "NegzToUjrk6Y"
   },
   "source": [
    "# Define a function for processing the data in each file"
   ]
  },
  {
   "cell_type": "code",
   "execution_count": null,
   "metadata": {
    "id": "pJnBnzmbrk6Z"
   },
   "outputs": [],
   "source": [
    "def process_file(i,point):\n",
    "    \"\"\" Processes a radar file \n",
    "    \n",
    "    Parameters\n",
    "    ----------\n",
    "    i: the file number to open\n",
    "    \"\"\"\n",
    "    \n",
    "    file = radarScans[i].filename\n",
    "    x = 0\n",
    "    from distance import distance_calculator\n",
    "    # Read the file\n",
    "    radar = pyart.io.read_nexrad_archive(storageL2+'/'+file)       \n",
    "    sweep_0 = radar.get_slice(0)\n",
    "    lat = radar.gate_latitude['data'][sweep_0]\n",
    "    lon = radar.gate_longitude['data'][sweep_0]\n",
    "    ref = radar.fields['reflectivity']['data'][sweep_0]\n",
    "\n",
    "    radar_long = radar.longitude['data']\n",
    "    radar_lat = radar.latitude['data']\n",
    "    \n",
    "    # Find reflectivity values within a radius\n",
    "    dist = distance_calculator(lon, lat, point) # Returns distance array from point\n",
    "    ind = np.where(dist < 15) # Returns all indices within a distance in km\n",
    "    latind = ind[0]\n",
    "    lonind = ind[1]\n",
    "    refvalue = ref[latind,lonind] # Call reflectivity values within this radius\n",
    "    \n",
    "    # Finds the index of the crash site\n",
    "    ind = np.where(dist == np.min(dist)) # Finds the closest index\n",
    "    radarlatind = ind[0][0]\n",
    "    radarlonind = ind[1][0]\n",
    "\n",
    "    # Calculate Distance from Radar\n",
    "    distfromradar = distance_calculator(lon,lat,(radar_long,radar_lat))\n",
    "    radardist = distfromradar[radarlatind,radarlonind]\n",
    "\n",
    "    namer = file\n",
    "\n",
    "    # Create Date Time Object\n",
    "    date_time_str = namer[4:12]+namer[13:19]\n",
    "    date_time_obj = datetime.strptime(date_time_str, '%Y%m%d%H%M%S')\n",
    "\n",
    "    return dict(scan=file, refvalue=refvalue, radardist=radardist, date_time_obj=date_time_obj)"
   ]
  },
  {
   "cell_type": "code",
   "execution_count": null,
   "metadata": {
    "id": "PBzvbXXRrk6a"
   },
   "outputs": [],
   "source": [
    "## Test of process_file function\n",
    "\n",
    "# from distance import distance_calculator\n",
    "\n",
    "    \n",
    "# file = radarScans[1].filename\n",
    "# x = 0\n",
    "# from distance import distance_calculator\n",
    "# # Read the file\n",
    "# radar = pyart.io.read_nexrad_archive(storageL2+'/'+file)       \n",
    "# sweep_0 = radar.get_slice(0)\n",
    "# lat = radar.gate_latitude['data'][sweep_0]\n",
    "# lon = radar.gate_longitude['data'][sweep_0]\n",
    "# ref = radar.fields['reflectivity']['data'][sweep_0]\n",
    "\n",
    "# radar_long = radar.longitude['data']\n",
    "# radar_lat = radar.latitude['data']\n",
    "\n",
    "# # Find reflectivity values within a radius\n",
    "# dist = distance_calculator(lon, lat, point) # Returns distance array from point\n",
    "# ind = np.where(dist < 15) # Returns all indices within a distance in km\n",
    "# latind = ind[0]\n",
    "# lonind = ind[1]\n",
    "# refvalue = ref[latind,lonind] # Call reflectivity values within this radius\n",
    "\n",
    "# # Plots a map of distance array, while masking a certain radius\n",
    "# import cartopy.crs as ccrs\n",
    "# import cartopy.feature as cfeature\n",
    "# fig = plt.figure(figsize=(12,12))\n",
    "# ax = fig.add_subplot(111, projection=ccrs.Miller())\n",
    "# ax.set_extent([-81,-75,39,43], ccrs.PlateCarree())\n",
    "# ax.add_feature(cfeature.STATES.with_scale('10m'))\n",
    "# ax.pcolormesh(lon, lat, newone, transform=ccrs.PlateCarree())\n",
    "# newone = np.ma.masked_where(dist < 15,dist)\n",
    "\n",
    "# # If this returns the same size as the refvalue size, then this is most likely correct\n",
    "# np.ma.count_masked(newone)\n",
    "# np.asarray(ind).shape"
   ]
  },
  {
   "cell_type": "markdown",
   "metadata": {
    "id": "f0rUfhY4rk6b"
   },
   "source": [
    "# Use multiprocessing to find reflectivity at different times"
   ]
  },
  {
   "cell_type": "code",
   "execution_count": null,
   "metadata": {
    "id": "SnTlHjCDrk6d",
    "outputId": "e5dc4db1-7abb-4943-82a1-22aa234374a0"
   },
   "outputs": [
    {
     "name": "stdout",
     "output_type": "stream",
     "text": [
      "Time elapsed: 19.579163 seconds\n"
     ]
    }
   ],
   "source": [
    "from multiprocessing import Pool\n",
    "\n",
    "ilen = len(radarScans) # Number of radar files in time progression\n",
    "\n",
    "start = datetime.utcnow() # Timer\n",
    "\n",
    "from functools import partial\n",
    "\n",
    "data_list = [np.asarray(range(0,ilen)),point]\n",
    "data_list_real_arr = []\n",
    "for q in range(0,ilen):\n",
    "    data_list_real = (q,point)\n",
    "    data_list_real_arr.append(data_list_real)\n",
    "    \n",
    "pool = Pool(processes=8)\n",
    "results = pool.starmap(process_file,data_list_real_arr)\n",
    "    \n",
    "# Display processing time\n",
    "print('Time elapsed:', (datetime.utcnow()-start).total_seconds(), 'seconds')"
   ]
  },
  {
   "cell_type": "markdown",
   "metadata": {
    "id": "N_iMo5Kvrk6d"
   },
   "source": [
    "# Function to unpack data in dictionary into arrays"
   ]
  },
  {
   "cell_type": "code",
   "execution_count": null,
   "metadata": {
    "id": "9g3R3_BTrk6e"
   },
   "outputs": [],
   "source": [
    "def unpackref(dataindex):\n",
    "    RefVal = results[dataindex]['refvalue']\n",
    "    return RefVal\n",
    "\n",
    "def unpackdatetime(dataindex):\n",
    "    date_time_obj = results[dataindex]['date_time_obj']\n",
    "    return date_time_obj\n",
    "def unpackdist(dataindex):\n",
    "    dist_radar = results[dataindex]['radardist']\n",
    "    return dist_radar"
   ]
  },
  {
   "cell_type": "markdown",
   "metadata": {
    "id": "Dah8548Trk6e"
   },
   "source": [
    "# Use multiprocessing to unpack data at all time frames"
   ]
  },
  {
   "cell_type": "code",
   "execution_count": null,
   "metadata": {
    "id": "FanOg3YDrk6f"
   },
   "outputs": [],
   "source": [
    "# Unpacks reflectivity values\n",
    "if __name__ == '__main__':\n",
    "    with Pool() as pool:\n",
    "        pool = Pool(processes=8)\n",
    "        refvalues = [pool.map(unpackref, range(0,ilen))]\n",
    "\n",
    "# Unpacks date times\n",
    "if __name__ == '__main__':\n",
    "    with Pool() as pool:\n",
    "        pool = Pool(processes=8)\n",
    "        date_time_obj_arr_orig = [pool.map(unpackdatetime, range(0,ilen))]\n",
    "\n",
    "# Unpacks distance from radar values\n",
    "if __name__ == '__main__':\n",
    "    with Pool() as pool:\n",
    "        pool = Pool(processes=8)\n",
    "        dist_arr_orig = [pool.map(unpackdist, range(0,ilen))]\n",
    "\n",
    "# The calculated distance from the radar varies very slightly at each timeframe.\n",
    "# Mean of distances taken to accommodate.\n",
    "\n",
    "mean_dist = np.mean(dist_arr_orig[0]) # in km\n"
   ]
  },
  {
   "cell_type": "markdown",
   "metadata": {
    "id": "lP8UjeL-rk6f"
   },
   "source": [
    "# Do Statistics on Reflectivty Values within Radius"
   ]
  },
  {
   "cell_type": "code",
   "execution_count": null,
   "metadata": {
    "id": "p-E7H0jgrk6g"
   },
   "outputs": [],
   "source": [
    "# Stores Values over Timeseries\n",
    "meantimeseries = []\n",
    "maxtimeseries = []\n",
    "percenttimeseries = []\n",
    "mediantimeseries = [] = []\n",
    "percentgreatertimeseries = []\n",
    "\n",
    "for timeloop in range(0,len(refvalues[0])): # Loop over time indices\n",
    "    refmatrix = refvalues[0][timeloop] # Calls reflectivity values in radius at a single time\n",
    "    \n",
    "    # Remove masked values in array\n",
    "    percentiledata1 = refmatrix[refmatrix.mask == False] \n",
    "    percentiledata = np.asarray(percentiledata1)\n",
    "    \n",
    "    # Find Mean\n",
    "    meanref = np.mean(percentiledata)\n",
    "    meantimeseries.append(meanref)\n",
    "    \n",
    "    # Find Max\n",
    "    if percentiledata.size == 0:\n",
    "        maxref = np.nan\n",
    "    else:\n",
    "        maxref = np.max(percentiledata)\n",
    "    maxtimeseries.append(maxref)\n",
    "    \n",
    "    # Calculates certain percentage value\n",
    "    if percentiledata.size == 0:\n",
    "        percentileval = np.nan\n",
    "    else:\n",
    "        percentileval = np.percentile(percentiledata,80)\n",
    "    percenttimeseries.append(percentileval)\n",
    "    \n",
    "    # Calculates median\n",
    "    if percentiledata.size == 0:\n",
    "        medianval = np.nan\n",
    "    else:\n",
    "        medianval = np.percentile(percentiledata,50)\n",
    "    mediantimeseries.append(medianval)\n",
    "    \n",
    "    # Finds the percent of gates in the entire radius greater than a certain reflectivity value\n",
    "    if percentiledata.size == 0:\n",
    "        percentgreater = 0\n",
    "    else:\n",
    "        percentgreater = (np.where(refmatrix > 30)[0].size/len(refmatrix))*100\n",
    "    percentgreatertimeseries.append(percentgreater)"
   ]
  },
  {
   "cell_type": "markdown",
   "metadata": {
    "id": "Mb4Iwrpgrk6g"
   },
   "source": [
    "# Create time-series plot of statistical values"
   ]
  },
  {
   "cell_type": "code",
   "execution_count": null,
   "metadata": {
    "id": "by_Czja4rk6h",
    "outputId": "157c22f2-8f21-454f-d8fc-077dc9e9a451"
   },
   "outputs": [
    {
     "data": {
      "image/png": "[encoded data removed]",
      "text/plain": [
       "<Figure size 1080x864 with 1 Axes>"
      ]
     },
     "metadata": {
      "needs_background": "light"
     },
     "output_type": "display_data"
    }
   ],
   "source": [
    "statfig = plt.figure(figsize=(15,12))\n",
    "ax1 = plt.axes()\n",
    "\n",
    "# Creates datetime object at the time of the crash\n",
    "crashstr = str(crashtimeyear)+' '+str(crashtimemon)+' '+str(crashtimeday)+' '+str(crashtimehour)+ ' ' + str(crashtimemin)\n",
    "crash_time_obj = datetime.strptime(crashstr, '%Y %m %d %H %M')\n",
    "\n",
    "# Datetimes over time interval for x-axis\n",
    "date_time_obj_arr = date_time_obj_arr_orig[0]\n",
    "\n",
    "ax1.plot(date_time_obj_arr,meantimeseries,label = 'Mean Reflectivity')\n",
    "ax1.plot(date_time_obj_arr,mediantimeseries,label = 'Median Reflectivity')\n",
    "ax1.plot(date_time_obj_arr,percenttimeseries, label = '80th Percentile Reflectivity Value')\n",
    "ax1.plot(date_time_obj_arr,maxtimeseries, label = 'Max Reflectivity')\n",
    "ax1.vlines(crash_time_obj,ymin=np.nanmin(mediantimeseries)-1,ymax=np.nanmax(maxtimeseries)+2,linestyle='dotted',color = 'r',label = 'Time of Crash')\n",
    "\n",
    "pointarr = point\n",
    "Lonval = pointarr[0]\n",
    "Latval = pointarr[1]\n",
    "\n",
    "ax1.set_title('Time-Series Radar Reflectivities within a Radius of 15 km of Traffic Incident at ' + str(crash_time_obj) + \n",
    "          ', Distance from Radar: ' + str(mean_dist) + ' km,' + ' Lat: ' + str(Latval) + ' Lon: ' + str(Lonval))\n",
    "\n",
    "ax1.set_ylabel('Reflectivity (dBZ)')\n",
    "ax1.set_xlabel('Time')\n",
    "\n",
    "\n",
    "plt.legend()\n",
    "\n",
    "plt.savefig('Reflectivity_Plots/crash_ref_radius_plots/' + crashstr + '_radius.png', dpi = 350,transparent = False,bbox_inches='tight')"
   ]
  },
  {
   "cell_type": "markdown",
   "metadata": {
    "id": "KBGC2jZjrk6i"
   },
   "source": [
    "# Create time-series plot of reflectivity values"
   ]
  },
  {
   "cell_type": "code",
   "execution_count": null,
   "metadata": {
    "id": "nqeBUgsdrk6j"
   },
   "outputs": [],
   "source": [
    "# Incidentfig = plt.figure(figsize=(15,12)) # Create figure object\n",
    "\n",
    "# # Creates datetime object at the time of the crash\n",
    "# crashstr = str(crashtimeyear)+' '+str(crashtimemon)+' '+str(crashtimeday)+' '+str(crashtimehour)+ ' ' + str(crashtimemin)\n",
    "# crash_time_obj = datetime.strptime(crashstr, '%Y %m %d %H %M')\n",
    "\n",
    "# # Replaces all masked reflectivity values to zero.\n",
    "# refvals = np.asarray(refvalues[0])\n",
    "# refvals = np.nan_to_num(refvals, nan=0.0)\n",
    "\n",
    "# # Datetimes over time interval for x-axis\n",
    "# date_time_obj_arr = date_time_obj_arr_orig[0]\n",
    "\n",
    "# # Plotting\n",
    "# ax1 = plt.axes() # Creates axis object\n",
    "\n",
    "# # Create line plot of reflectivity values wrt time\n",
    "# ax1.plot(date_time_obj_arr, refvals,'-*') \n",
    "\n",
    "# # Annotate the line plot with times\n",
    "# for d in range(0,ilen):\n",
    "#     if date_time_obj_arr[d].minute < 10:\n",
    "#         plt.annotate(str(date_time_obj_arr[d].hour)+':'+ '0' + str(date_time_obj_arr[d].minute),\n",
    "#                      xy=(date_time_obj_arr[d], refvals[d]+0.3),fontsize=9)\n",
    "#     else:\n",
    "#         plt.annotate(str(date_time_obj_arr[d].hour)+':'+str(date_time_obj_arr[d].minute),\n",
    "#                      xy=(date_time_obj_arr[d], refvals[d]+0.3),fontsize=9)\n",
    "\n",
    "            \n",
    "# # Annotate max reflectivity value\n",
    "# maxRef = np.max(refvals)\n",
    "# maxRefInd = np.where(maxRef == refvals)[0][0]\n",
    "# maxRefTimeLoc = date_time_obj_arr[maxRefInd]\n",
    "# plt.annotate('Reflectivity Max: ' + str(maxRef) + ' dBz', fontsize=9, xy=(maxRefTimeLoc,maxRef+0.8))\n",
    "\n",
    "# # Create vertical line at the time of crash\n",
    "# ax1.vlines(crash_time_obj,ymin=np.min(refvals)-1,ymax=np.max(refvals)+2,linestyle='dotted',color = 'r',label = 'Time of Crash')\n",
    "\n",
    "# # Retrieve lat/lon\n",
    "# pointarr = point\n",
    "# Lonval = pointarr[0]\n",
    "# Latval = pointarr[1]\n",
    "\n",
    "# # Setting plot parameters\n",
    "# ax1.set_ylim(np.min(refvals)-1,np.max(refvals)+2)\n",
    "# ax1.set_title('Time-Series Radar Reflectivity of Traffic Incident at ' + str(crash_time_obj) + \n",
    "#           ', Distance from Radar: ' + str(mean_dist) + ' km,' + ' Lat: ' + str(Latval) + ' Lon: ' + str(Lonval))\n",
    "# ax1.set_ylabel('Reflectivity (dBZ)')\n",
    "# ax1.set_xlabel('Time')\n",
    "# ax1.legend()\n",
    "# plt.tight_layout()\n",
    "\n",
    "# # Save Figure\n",
    "# plt.savefig('Reflectivity_Plots/crash_ref_plot' + crashstr + '.png', dpi = 350,transparent = False,bbox_inches='tight')"
   ]
  },
  {
   "cell_type": "code",
   "execution_count": null,
   "metadata": {
    "id": "RD8QdKPLrk6k"
   },
   "outputs": [],
   "source": []
  }
 ],
 "metadata": {
  "colab": {
   "provenance": []
  },
  "kernelspec": {
   "display_name": "Python 3",
   "language": "python",
   "name": "python3"
  },
  "language_info": {
   "codemirror_mode": {
    "name": "ipython",
    "version": 3
   },
   "file_extension": ".py",
   "mimetype": "text/x-python",
   "name": "python",
   "nbconvert_exporter": "python",
   "pygments_lexer": "ipython3",
   "version": "3.8.2"
  }
 },
 "nbformat": 4,
 "nbformat_minor": 0
}
