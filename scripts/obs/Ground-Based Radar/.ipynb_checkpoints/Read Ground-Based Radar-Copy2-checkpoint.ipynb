{
 "cells": [
  {
   "cell_type": "code",
   "execution_count": 1,
   "id": "2b492dc7",
   "metadata": {},
   "outputs": [
    {
     "name": "stdout",
     "output_type": "stream",
     "text": [
      "\n",
      "## You are using the Python ARM Radar Toolkit (Py-ART), an open source\n",
      "## library for working with weather radar data. Py-ART is partly\n",
      "## supported by the U.S. Department of Energy as part of the Atmospheric\n",
      "## Radiation Measurement (ARM) Climate Research Facility, an Office of\n",
      "## Science user facility.\n",
      "##\n",
      "## If you use this software to prepare a publication, please cite:\n",
      "##\n",
      "##     JJ Helmus and SM Collis, JORS 2016, doi: 10.5334/jors.119\n",
      "\n"
     ]
    }
   ],
   "source": [
    "import nexradaws\n",
    "from datetime import datetime as datetime\n",
    "from datetime import timedelta\n",
    "import pyart\n",
    "import matplotlib.pyplot as plt\n",
    "import numpy as np\n",
    "import sys\n",
    "sys.path.insert(0, '/Users/acheung/TC_RI_P1/scripts/Useful Functions/')\n",
    "from cylindrical_conversion import interp_to_equal_grid\n",
    "from cylindrical_conversion import x_y_grid_to_cylindrical\n",
    "import pandas as pd\n",
    "import cartopy.crs as ccrs\n",
    "import os"
   ]
  },
  {
   "cell_type": "code",
   "execution_count": 2,
   "id": "f319c676",
   "metadata": {},
   "outputs": [],
   "source": [
    "conn = nexradaws.NexradAwsInterface()"
   ]
  },
  {
   "cell_type": "code",
   "execution_count": 3,
   "id": "8bb9062d",
   "metadata": {
    "tags": []
   },
   "outputs": [
    {
     "name": "stdout",
     "output_type": "stream",
     "text": [
      "Downloaded KOKX20210821_120539_V06\n",
      "Downloaded KOKX20210821_122158_V06\n",
      "Downloaded KOKX20210821_121621_V06\n",
      "Downloaded KOKX20210821_121100_V06\n",
      "Downloaded KOKX20210821_122720_V06\n",
      "Downloaded KOKX20210821_120017_V06\n"
     ]
    },
    {
     "name": "stderr",
     "output_type": "stream",
     "text": [
      "\n",
      "KeyboardInterrupt\n",
      "\n"
     ]
    }
   ],
   "source": [
    "time = datetime(2021, 8, 21, 0, 0) # YYYY, MM,DD,HH,MM\n",
    "startTime = time + timedelta(hours=12)\n",
    "endTime = time + timedelta(hours=48)\n",
    "storageL2 = '/Users/acheung/data/ground_radar/'\n",
    "radar_desired = 'KOKX'\n",
    "radar_Scans = conn.get_avail_scans_in_range(startTime, endTime, radar_desired)\n",
    "conn.download(radar_Scans, storageL2) # Downloads the radar files to the location"
   ]
  },
  {
   "cell_type": "code",
   "execution_count": null,
   "id": "c304a0b8",
   "metadata": {},
   "outputs": [],
   "source": [
    "def process_file(i,point):\n",
    "    \"\"\" Processes a radar file \n",
    "    \n",
    "    Parameters\n",
    "    ----------\n",
    "    i: the file number to open\n",
    "    \"\"\"\n",
    "    \n",
    "    file = radarScans[i].filename\n",
    "    x = 0\n",
    "    from distance import distance_calculator\n",
    "    # Read the file\n",
    "    radar = pyart.io.read_nexrad_archive(storageL2+'/'+file)       \n",
    "    sweep_0 = radar.get_slice(0)\n",
    "    lat = radar.gate_latitude['data'][sweep_0]\n",
    "    lon = radar.gate_longitude['data'][sweep_0]\n",
    "    ref = radar.fields['reflectivity']['data'][sweep_0]\n",
    "\n",
    "    radar_long = radar.longitude['data']\n",
    "    radar_lat = radar.latitude['data']\n",
    "    \n",
    "    # Find reflectivity values within a radius\n",
    "    dist = distance_calculator(lon, lat, point) # Returns distance array from point\n",
    "    ind = np.where(dist < 15) # Returns all indices within a distance in km\n",
    "    latind = ind[0]\n",
    "    lonind = ind[1]\n",
    "    refvalue = ref[latind,lonind] # Call reflectivity values within this radius\n",
    "    \n",
    "    # Finds the index of the crash site\n",
    "    ind = np.where(dist == np.min(dist)) # Finds the closest index\n",
    "    radarlatind = ind[0][0]\n",
    "    radarlonind = ind[1][0]\n",
    "\n",
    "    # Calculate Distance from Radar\n",
    "    distfromradar = distance_calculator(lon,lat,(radar_long,radar_lat))\n",
    "    radardist = distfromradar[radarlatind,radarlonind]\n",
    "\n",
    "    namer = file\n",
    "\n",
    "    # Create Date Time Object\n",
    "    date_time_str = namer[4:12]+namer[13:19]\n",
    "    date_time_obj = datetime.strptime(date_time_str, '%Y%m%d%H%M%S')\n",
    "\n",
    "    return dict(scan=file, refvalue=refvalue, radardist=radardist, date_time_obj=date_time_obj)"
   ]
  },
  {
   "cell_type": "code",
   "execution_count": null,
   "id": "528536d2",
   "metadata": {},
   "outputs": [],
   "source": [
    "# radar = pyart.io.read_nexrad_archive(storageL2+'/'+radar_Scans[-5].filename)       \n",
    "# sweep_0 = radar.get_slice(0)\n",
    "# lat = radar.gate_latitude['data'][sweep_0]\n",
    "# lon = radar.gate_longitude['data'][sweep_0]\n",
    "# ref = radar.fields['reflectivity']['data'][sweep_0]\n",
    "\n",
    "# radar_long = radar.longitude['data']\n",
    "# radar_lat = radar.latitude['data']\n",
    "# # plt.pcolormesh(x_sort,y_sort,ref[np.argsort(x_grid),np.argsort(y_grid)])\n",
    "# # plt.colorbar()\n",
    "# # # plt.scatter(radar_long,radar_lat)\n",
    "# # plt.scatter(18000,-195000)"
   ]
  },
  {
   "cell_type": "code",
   "execution_count": null,
   "id": "601bb811-b7f5-4af2-ad28-1e673a18884c",
   "metadata": {},
   "outputs": [],
   "source": [
    "desired_iterations = np.arange(0,len(radar_Scans),2)\n",
    "\n",
    "for k in desired_iterations:\n",
    "    if len(str(radar_Scans[k])) > 67:\n",
    "        k = k+1\n",
    "    radar = pyart.io.read_nexrad_archive(storageL2+'/'+radar_Scans[k].filename)       \n",
    "    test_grid_radar = pyart.map.grid_from_radars(radar,(10,100,100),((0,10000),(-300000,300000),(-300000,300000)))\n",
    "    radar_xr = test_grid_radar.to_xarray()\n",
    "\n",
    "    # Make the figure larger\n",
    "    fig = plt.figure()\n",
    "\n",
    "    # Set the axes using the specified map projection\n",
    "    ax=plt.axes(projection=ccrs.PlateCarree())\n",
    "\n",
    "    # Make a filled contour plot\n",
    "    radar_plot = ax.pcolormesh(radar_xr['lon'],radar_xr['lat'],radar_xr['reflectivity'].isel(z=2)[0],\n",
    "                transform = ccrs.PlateCarree(),vmin=-10,vmax=50,cmap='jet')\n",
    "\n",
    "    # Add coastlines\n",
    "    ax.coastlines()\n",
    "    plt.colorbar(radar_plot,label='Reflectivity (dBZ)')\n",
    "    ax.set_title('Hurricane Henri ('+str(radar_xr['time'].values[0])[0:-7]\n",
    "                 +') \\n z = ' + str(int(radar_xr['z'][2].round(0))) + ' m')\n",
    "    plt.tight_layout()\n",
    "    storm_and_year = 'Henri_2021_KOKX'\n",
    "    if os.path.exists('/Users/acheung/data/ground_radar/storms/'+storm_and_year) == False:\n",
    "        os.mkdir('/Users/acheung/data/ground_radar/storms/'+storm_and_year)\n",
    "    \n",
    "    plt.savefig('/Users/acheung/data/ground_radar/storms/'+storm_and_year+'/'+str(radar_xr['time'].values[0])[0:-7])\n",
    "    plt.close()"
   ]
  },
  {
   "cell_type": "code",
   "execution_count": null,
   "id": "a58be4a1",
   "metadata": {},
   "outputs": [],
   "source": [
    "x = test_grid_radar.x['data']\n",
    "y = test_grid_radar.y['data']\n",
    "reflectivity = test_grid_radar.fields['reflectivity']['data'][4]\n",
    "plot = plt.pcolormesh(x,y,reflectivity)\n",
    "plt.scatter(18000,-195000)\n",
    "plt.colorbar(plot)"
   ]
  },
  {
   "cell_type": "code",
   "execution_count": null,
   "id": "54c4dea8",
   "metadata": {},
   "outputs": [],
   "source": [
    "radius_interval = 100\n",
    "radius_min = 0\n",
    "radius_max = 200000\n",
    "center_inds = [-195000,23000]\n",
    "NOP = 1000\n",
    "cylindrical_data, THETA, rad_arr = x_y_grid_to_cylindrical(center_inds,radius_min,radius_max,radius_interval, NOP,x,y,reflectivity)\n",
    "\n"
   ]
  },
  {
   "cell_type": "code",
   "execution_count": null,
   "id": "aa76e874",
   "metadata": {},
   "outputs": [],
   "source": [
    "fig, ax = plt.subplots(subplot_kw={'projection': 'polar'})\n",
    "ax.grid(True)\n",
    "ax.set_theta_direction(-1)\n",
    "ax.set_theta_zero_location('N')\n",
    "s = ax.pcolormesh(THETA, rad_arr/1000,cylindrical_data)\n",
    "plt.colorbar(s)\n",
    "\n",
    "# plt.pcolormesh(cylindrical_data)"
   ]
  },
  {
   "cell_type": "code",
   "execution_count": null,
   "id": "89e361e9",
   "metadata": {},
   "outputs": [],
   "source": []
  }
 ],
 "metadata": {
  "kernelspec": {
   "display_name": "Python [conda env:besttrack] *",
   "language": "python",
   "name": "conda-env-besttrack-py"
  },
  "language_info": {
   "codemirror_mode": {
    "name": "ipython",
    "version": 3
   },
   "file_extension": ".py",
   "mimetype": "text/x-python",
   "name": "python",
   "nbconvert_exporter": "python",
   "pygments_lexer": "ipython3",
   "version": "3.11.7"
  }
 },
 "nbformat": 4,
 "nbformat_minor": 5
}
