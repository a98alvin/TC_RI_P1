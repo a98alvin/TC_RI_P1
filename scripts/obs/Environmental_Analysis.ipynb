{
 "cells": [
  {
   "cell_type": "code",
   "execution_count": 1,
   "id": "f952d53f",
   "metadata": {},
   "outputs": [],
   "source": [
    "import matplotlib.pyplot as plt\n",
    "import pandas as pd\n",
    "import numpy as np"
   ]
  },
  {
   "cell_type": "code",
   "execution_count": 26,
   "id": "5cc062f2",
   "metadata": {},
   "outputs": [
    {
     "data": {
      "image/png": "[encoded data removed]",
      "text/plain": [
       "<Figure size 640x480 with 1 Axes>"
      ]
     },
     "metadata": {},
     "output_type": "display_data"
    }
   ],
   "source": [
    "basin = 'north_atlantic'\n",
    "ec_ships_boo = 'y' # set to 'y' if we want to use EC SHIPS\n",
    "\n",
    "if ec_ships_boo == 'y':\n",
    "    shear_RI = pd.read_csv('/Users/acheung/data/RI_Cases/RI_Events_with_EC_SHIPS_shear_'+basin+'.csv')\n",
    "elif ec_ships_boo == 'n':\n",
    "    shear_RI = pd.read_csv('/Users/acheung/data/RI_Cases/RI_Events_with_shear_'+basin+'.csv')\n",
    "\n",
    "shear_RI_indexed = shear_RI.set_index(['Season','Storm_Name','Storm_ID','RI_Number'])\n",
    "\n",
    "counts, edges, bars = plt.hist(shear_RI_indexed['Deep-Layer Shear (kt)'],bins=[0,10,20,30,40,50])\n",
    "plt.grid()\n",
    "plt.xlabel('Deep-Layer Shear (kt)')\n",
    "plt.ylabel('RI Events')\n",
    "plt.bar_label(bars)\n",
    "\n",
    "if ec_ships_boo == 'y':\n",
    "    plt.title(basin + ' ' + str(int(shear_RI['Season'].min()))+'–'+str(int(shear_RI['Season'].max())) + ' (EC_SHIPS)')\n",
    "    plt.savefig('/Users/acheung/figures/histogram_RI_cases_EC_SHIPS_shear_'+basin,dpi=600)\n",
    "elif ec_ships_boo == 'n':\n",
    "    plt.title(basin + ' ' + str(int(shear_RI['Season'].min()))+'–'+str(int(shear_RI['Season'].max())))\n",
    "    plt.savefig('/Users/acheung/figures/histogram_RI_cases_shear_'+basin,dpi=600)"
   ]
  },
  {
   "cell_type": "code",
   "execution_count": 27,
   "id": "af770297",
   "metadata": {},
   "outputs": [
    {
     "data": {
      "text/plain": [
       "2016"
      ]
     },
     "execution_count": 27,
     "metadata": {},
     "output_type": "execute_result"
    }
   ],
   "source": [
    "int(shear_RI['Season'].min())"
   ]
  },
  {
   "cell_type": "code",
   "execution_count": 28,
   "id": "2ca306bc",
   "metadata": {},
   "outputs": [],
   "source": [
    "std_shear_RI = np.std(shear_RI_indexed['Deep-Layer Shear (kt)'])\n",
    "med_shear_RI = np.nanmedian(shear_RI_indexed['Deep-Layer Shear (kt)'])\n",
    "mean_shear_RI = np.mean(shear_RI_indexed['Deep-Layer Shear (kt)'])\n",
    "RI_shear_stats = [int(counts.sum()),mean_shear_RI,med_shear_RI,std_shear_RI]\n",
    "RI_shear_stats_pd = pd.DataFrame(RI_shear_stats).transpose()\n",
    "RI_shear_stats_pd.columns = ['Sample Size','Mean','Median','Standard Deviation']\n",
    "RI_shear_stats_pd.index = [basin]\n",
    "RI_shear_stats_pd.index.name = 'Basin'\n",
    "\n",
    "if ec_ships_boo == 'y':\n",
    "    RI_shear_stats_pd.to_csv('/Users/acheung/data/RI_Cases/stats_RI_EC_SHIPS_shear_'+basin+'.csv')\n",
    "elif ec_ships_boo == 'n':\n",
    "    RI_shear_stats_pd.to_csv('/Users/acheung/data/RI_Cases/stats_RI_shear_'+basin+'.csv')\n"
   ]
  },
  {
   "cell_type": "code",
   "execution_count": 29,
   "id": "016e48a2",
   "metadata": {},
   "outputs": [
    {
     "data": {
      "text/html": [
       "<div>\n",
       "<style scoped>\n",
       "    .dataframe tbody tr th:only-of-type {\n",
       "        vertical-align: middle;\n",
       "    }\n",
       "\n",
       "    .dataframe tbody tr th {\n",
       "        vertical-align: top;\n",
       "    }\n",
       "\n",
       "    .dataframe thead th {\n",
       "        text-align: right;\n",
       "    }\n",
       "</style>\n",
       "<table border=\"1\" class=\"dataframe\">\n",
       "  <thead>\n",
       "    <tr style=\"text-align: right;\">\n",
       "      <th></th>\n",
       "      <th>Sample Size</th>\n",
       "      <th>Mean</th>\n",
       "      <th>Median</th>\n",
       "      <th>Standard Deviation</th>\n",
       "    </tr>\n",
       "    <tr>\n",
       "      <th>Basin</th>\n",
       "      <th></th>\n",
       "      <th></th>\n",
       "      <th></th>\n",
       "      <th></th>\n",
       "    </tr>\n",
       "  </thead>\n",
       "  <tbody>\n",
       "    <tr>\n",
       "      <th>north_atlantic</th>\n",
       "      <td>41.0</td>\n",
       "      <td>10.95122</td>\n",
       "      <td>10.0</td>\n",
       "      <td>6.397222</td>\n",
       "    </tr>\n",
       "  </tbody>\n",
       "</table>\n",
       "</div>"
      ],
      "text/plain": [
       "                Sample Size      Mean  Median  Standard Deviation\n",
       "Basin                                                            \n",
       "north_atlantic         41.0  10.95122    10.0            6.397222"
      ]
     },
     "execution_count": 29,
     "metadata": {},
     "output_type": "execute_result"
    }
   ],
   "source": [
    "RI_shear_stats_pd"
   ]
  },
  {
   "cell_type": "code",
   "execution_count": 30,
   "id": "c7f27d31",
   "metadata": {},
   "outputs": [
    {
     "data": {
      "text/plain": [
       "(32, 7)"
      ]
     },
     "execution_count": 30,
     "metadata": {},
     "output_type": "execute_result"
    }
   ],
   "source": [
    "shear_RI.where(shear_RI['RI_Number'] == 1).dropna().shape"
   ]
  },
  {
   "cell_type": "code",
   "execution_count": 31,
   "id": "2ebbb67c",
   "metadata": {},
   "outputs": [
    {
     "data": {
      "text/plain": [
       "(9, 7)"
      ]
     },
     "execution_count": 31,
     "metadata": {},
     "output_type": "execute_result"
    }
   ],
   "source": [
    "shear_RI.where(shear_RI['RI_Number'] == 2).dropna().shape"
   ]
  },
  {
   "cell_type": "code",
   "execution_count": 32,
   "id": "084a3c51",
   "metadata": {},
   "outputs": [
    {
     "data": {
      "text/plain": [
       "(0, 7)"
      ]
     },
     "execution_count": 32,
     "metadata": {},
     "output_type": "execute_result"
    }
   ],
   "source": [
    "shear_RI.where(shear_RI['RI_Number'] == 3).dropna().shape"
   ]
  },
  {
   "cell_type": "code",
   "execution_count": null,
   "id": "3564ebbd",
   "metadata": {},
   "outputs": [],
   "source": []
  }
 ],
 "metadata": {
  "kernelspec": {
   "display_name": "Python [conda env:besttrack] *",
   "language": "python",
   "name": "conda-env-besttrack-py"
  },
  "language_info": {
   "codemirror_mode": {
    "name": "ipython",
    "version": 3
   },
   "file_extension": ".py",
   "mimetype": "text/x-python",
   "name": "python",
   "nbconvert_exporter": "python",
   "pygments_lexer": "ipython3",
   "version": "3.11.7"
  }
 },
 "nbformat": 4,
 "nbformat_minor": 5
}
